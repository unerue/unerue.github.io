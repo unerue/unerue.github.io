{
 "cells": [
  {
   "cell_type": "markdown",
   "id": "f4fb023d-52f1-45e9-bfb8-e27a8ca6115f",
   "metadata": {
    "tags": []
   },
   "source": [
    "# 1장 소개\n",
    "\n",
    "## 컴퓨터 비전과 영상 처리\n",
    "영상 처리(image processing)은 영상을 처리하는 연산을 뜻한다. 예를 들어 카메라로 찍은 사진 또는 동영상에 필터, 회전, 색감 조정 등과 같은 연산을 가해서 원하는 결과물을 얻어내는 과정이다. 영상 처리의 주목적은 고품질의 이미지를 얻기위함이다. 사진이나 동영상의 밝기를 조절해 화질을 개선하거나 오래된 영상에서 현대적인 품질로 복원하는 영상 복원, 사진이나 영상에서 원하는 부분만 오려내는 영상 분할과 같은 것들이 있다. 이런 것들은 어도비의 포토샵, 애플의 파이널 컷 등이 있을 것이다. \n",
    "\n",
    "컴퓨터 비전(computer vision)은 영상 처리 개념을 포함하는 좀 더 큰 포괄적인 의미이다. 영상 처리가 원본 영상을 사용자가 원하는 영상으로 바꿔 주는 기술이라면 컴퓨터 비전은 영상에서 의미 있는 정보를 추출하는 것이다. 이는 영상 속에서 관심있는 대상이 어디있는지 위치를 추출하는 객체 탐지(object detection), 객체가 어디로 움직이는지 추척하는 객체 추적(object tracking), 이미지 속에 피사체가 무엇인지 인식하는 객체(object recognition) 등이 있다. 컴퓨터 비전 작업을 하기 전 영상 처리 작업을 하는 경우가 많다. 특히, 딥러닝 시대로 들어오면서 컴퓨터 비전의 획기적인 발전으로 인해 영상 처리가 더욱 중요해졌다. 20세기의 석유인 데이터를 잘 정제해 고품질의 훈련셋으로 딥러닝 모형을 학습해 좋은 성능을 이끌어내기 위해서다. \n",
    "\n",
    "{cite}`he2016deep`"
   ]
  },
  {
   "cell_type": "markdown",
   "id": "e3ee116d-b709-4e90-91ba-00143b07c278",
   "metadata": {},
   "source": [
    "## 시각 기관\n",
    "\n",
    "<div>\n",
    "    <img src=\"https://upload.wikimedia.org/wikipedia/commons/5/51/Eye-diagram.png\" style=\"height: 200px\">\n",
    "</div>\n",
    "\n",
    "\n",
    "## 시각적 지각에 관한 인간의 시야\n",
    "\n",
    "<div>\n",
    "    <img src=\"https://upload.wikimedia.org/wikipedia/commons/a/a2/Visual_Perception_Human_FOV.png\" style=\"height: 250px\"/>\n",
    "</div>\n",
    "\n",
    "## 필름 카메라와 디지털 카메라의 원리\n",
    "\n",
    "<div>\n",
    "    <img src=\"https://mblogthumb-phinf.pstatic.net/20120927_248/phominator_1348717975609iFbcV_JPEG/cameraeye.jpg?type=w2\" style=\"height: 250px\"/>\n",
    "    <img src=\"https://img1.daumcdn.net/thumb/R720x0.q80/?scode=mtistory2&fname=http%3A%2F%2Fcfile24.uf.tistory.com%2Fimage%2F2567A74C5774FC221AAC7E\" style=\"height: 250px\"/>\n",
    "</div>"
   ]
  },
  {
   "cell_type": "markdown",
   "id": "1a803b2c-1c50-4609-b9b9-a60f9366d3db",
   "metadata": {},
   "source": [
    "## 객체 탐지\n",
    "\n",
    "<div>\n",
    "    <img src=\"https://upload.wikimedia.org/wikipedia/commons/3/38/Detected-with-YOLO--Schreibtisch-mit-Objekten.jpg\" style=\"height: 400px\"/>\n",
    "</div>\n",
    "\n",
    "## 시맨틱 세그먼테이션\n",
    "\n",
    "<div>\n",
    "    <img src=\"https://nanonets.com/blog/content/images/2020/08/1_wninXztJ90h3ZHtKXCNKFA.jpeg\" style=\"height: 400px\"/>\n",
    "</div>\n",
    "\n",
    "## 인스턴스 세그먼테이션\n",
    "\n",
    "<div>\n",
    "    <img src=\"https://analyticsindiamag.com/wp-content/uploads/2021/02/solo-banner.png\" style=\"height: 400px\"/>\n",
    "</div>\n",
    "\n",
    "## 휴먼 포즈 추정\n",
    "\n",
    "<div>\n",
    "    <img src=\"https://miro.medium.com/max/1400/1*q8Bq1q0tb0BSCaVmcHygFw.png\" style=\"height: 400px\"/>\n",
    "</div>\n",
    "\n",
    "## 깊이 추정\n",
    "\n",
    "깊이 추정(depth estimation)\n",
    "\n",
    "<div>\n",
    "    <img src=\"https://media-exp1.licdn.com/dms/image/C4E22AQFfGhgIz9kx5A/feedshare-shrink_2048_1536/0/1629094277270?e=1632960000&v=beta&t=wrRkmHrHGqBZgg-qpvS-svQ4H6A-9OFm6BBhgO5Rakw\" style=\"height: 400px\"/>\n",
    "</div>\n",
    "\n",
    "## 초해상화\n",
    "\n",
    "초해상화(super resolution)\n",
    "\n",
    "<div>\n",
    "    <img src=\"https://miro.medium.com/max/1838/1*6VPZ5mLkO_2j6D3rYs08rg.png\" style=\"height: 400px\"/>\n",
    "</div>\n",
    "\n",
    "## GAN\n",
    "\n",
    "<div>\n",
    "    <img src=\"https://miro.medium.com/max/640/0*xuZJA7BHYhVtg4Vf.gif\" style=\"height: 400px\"/>\n",
    "    <img src=\"https://i1.wp.com/syncedreview.com/wp-content/uploads/2020/08/DN-8.3.gif?fit=786%2C438&ssl=1\" style=\"height: 400px\"/>\n",
    "</div>\n",
    "\n",
    "## 얼굴 탐지 및 확인\n",
    "\n",
    "<div>\n",
    "    <img src=\"https://camo.githubusercontent.com/94afea3fd9149d1859c601e5f396b2d57ed803d8cc1401fcbdc76e669e162943/68747470733a2f2f696e7369676874666163652e61692f6173736574732f696d672f6769746875622f666163657265636f676e6974696f6e66726f6d766964656f2e504e47\" style=\"height: 400px\"/>\n",
    "    <img src=\"https://camo.githubusercontent.com/a3fa0edd910b60f94085b14fa1a171bfa30bfea7b9591ca7a380565e4e581b80/68747470733a2f2f696e7369676874666163652e61692f6173736574732f696d672f6769746875622f31313531334430352e6a7067\" style=\"height: 400px\"/>\n",
    "</div>\n",
    "\n"
   ]
  },
  {
   "cell_type": "markdown",
   "id": "9c12d8b4-e3bd-44f8-b8ae-d1751b709aa7",
   "metadata": {},
   "source": [
    "## 참고도서\n",
    "\n",
    "<div>\n",
    "    <img src=\"http://image.kyobobook.co.kr/images/book/xlarge/216/x9791156641216.jpg\" style=\"height: 200px;\" />\n",
    "    <img src=\"http://image.kyobobook.co.kr/images/book/xlarge/410/x9788966262410.jpg\" style=\"height: 200px;\" />\n",
    "    <img src=\"http://image.yes24.com/goods/71829618/XL\" style=\"height: 200px;\" />\n",
    "</div>\n",
    "\n",
    "\n",
    "### 파이토치\n",
    "\n",
    "파이토치는 파이썬 기반의 오픈 소스 머신러닝 라이브러리로, 페이스북 인공지능 연구집단에 의해 개발되었다. 간결하고 구현이 빨리되며, 텐서플로우보다 사용자가 익히기 훨씬 쉽다는 특징이 있다. 또한 코드를 직접 다루거나 사람들에게 설명해 주기에도 효과적이다.\n",
    "\n",
    "<div>\n",
    "    <img src=\"https://upload.wikimedia.org/wikipedia/commons/thumb/c/c6/PyTorch_logo_black.svg/2560px-PyTorch_logo_black.svg.png\" style=\"height: 70px;\" />\n",
    "</div>"
   ]
  },
  {
   "cell_type": "code",
   "execution_count": null,
   "id": "0be579e5-7606-4a86-8090-7d61f194b3ae",
   "metadata": {},
   "outputs": [],
   "source": []
  }
 ],
 "metadata": {
  "kernelspec": {
   "display_name": "Python 3",
   "language": "python",
   "name": "python3"
  },
  "language_info": {
   "codemirror_mode": {
    "name": "ipython",
    "version": 3
   },
   "file_extension": ".py",
   "mimetype": "text/x-python",
   "name": "python",
   "nbconvert_exporter": "python",
   "pygments_lexer": "ipython3",
   "version": "3.7.7"
  }
 },
 "nbformat": 4,
 "nbformat_minor": 5
}
