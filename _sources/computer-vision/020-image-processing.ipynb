{
 "cells": [
  {
   "cell_type": "markdown",
   "id": "4e729f2e-197c-420d-8642-a05646da348d",
   "metadata": {},
   "source": [
    "# 2장 영상 처리\n",
    "\n",
    "핀홀 카메라는 복잡한 카메라의 작동 원리를 단순하게 표현한 수학적 모형이다. 빛이 상자의 왼쪽에 있는 작은 구멍을 통해 내부로 들어가면 오른쪽 영상 평면(CCD 센서 또는 필름)에 맺힌다. 영상 평면에 붙어 있는 CCD 센서는 영상을 가로방향으로 N, 세로 방향으로 M개의 점으로 샘플링하고 화소라고 부르는 각 점의 밝기를 L단계로 양자화한다. 컴퓨터 비전에서 다루는 영상은 모두 디지털 영상이다. \n",
    "\n",
    "디지털화된 이미지는 픽셀(pixel) 또는 화소라는 단위로 표현한다. 하나의 픽셀을 어떻게 구성하느냐에 따라 이미지를 구분할 수 있다. 한 개의 픽셀을 $[0,1]$ 값으로 표현하면 바이너리(binary) 이미지, $[0,255]$는 우리가 흔히 말하는 흑백 사진인 그레이 스케일 이미지이다. 컬러 이미지에 색상을 표현하는 방법은 많지만 흔히 컬러 이미지는 한 픽셀당 $[0,255]$의 값 3개를 조합해 표현한다. 각 바이트마다 어떤 색상 표현의 역할을 결정하는 시스템을 컬러 스페이스(color space, 색공간)이락 한다. \n",
    "\n"
   ]
  }
 ],
 "metadata": {
  "kernelspec": {
   "display_name": "Python 3 (ipykernel)",
   "language": "python",
   "name": "python3"
  },
  "language_info": {
   "codemirror_mode": {
    "name": "ipython",
    "version": 3
   },
   "file_extension": ".py",
   "mimetype": "text/x-python",
   "name": "python",
   "nbconvert_exporter": "python",
   "pygments_lexer": "ipython3",
   "version": "3.9.7"
  }
 },
 "nbformat": 4,
 "nbformat_minor": 5
}
