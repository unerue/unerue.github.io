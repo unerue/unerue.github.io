{
 "cells": [
  {
   "cell_type": "markdown",
   "id": "cdc16541",
   "metadata": {},
   "source": [
    "# 이진화와 모폴로지\n",
    "\n",
    "그레이스케일 영상의 픽셀 값을 0 또는 255로 변환하는 이진화 기법에 대해 학습한다. 이진화는 영상에서 관심 있는 객체 영역과 배경 영역을 구분하기 위한 용도로 사용된다. "
   ]
  },
  {
   "cell_type": "code",
   "execution_count": null,
   "id": "f5316aa0",
   "metadata": {},
   "outputs": [],
   "source": []
  },
  {
   "cell_type": "code",
   "execution_count": null,
   "id": "3a6dfbd0",
   "metadata": {},
   "outputs": [],
   "source": []
  },
  {
   "cell_type": "code",
   "execution_count": null,
   "id": "64dfb233",
   "metadata": {},
   "outputs": [],
   "source": []
  },
  {
   "cell_type": "code",
   "execution_count": null,
   "id": "0d5392e5",
   "metadata": {},
   "outputs": [],
   "source": []
  }
 ],
 "metadata": {
  "kernelspec": {
   "display_name": "Python 3",
   "language": "python",
   "name": "python3"
  },
  "language_info": {
   "codemirror_mode": {
    "name": "ipython",
    "version": 3
   },
   "file_extension": ".py",
   "mimetype": "text/x-python",
   "name": "python",
   "nbconvert_exporter": "python",
   "pygments_lexer": "ipython3",
   "version": "3.7.7"
  }
 },
 "nbformat": 4,
 "nbformat_minor": 5
}
