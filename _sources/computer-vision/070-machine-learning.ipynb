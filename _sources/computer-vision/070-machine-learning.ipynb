{
 "cells": [
  {
   "cell_type": "markdown",
   "id": "8455f259-3c38-4e3b-9977-817df2118066",
   "metadata": {},
   "source": [
    "# 7장 기계학습\n",
    "\n",
    "기계학습 또는 머신러닝(machine learning)으로 불리는\n",
    "\n"
   ]
  },
  {
   "cell_type": "code",
   "execution_count": null,
   "id": "d2cbe194-7fd8-4f15-8e9b-d963f57b64bc",
   "metadata": {},
   "outputs": [],
   "source": []
  }
 ],
 "metadata": {
  "kernelspec": {
   "display_name": "Python 3",
   "language": "python",
   "name": "python3"
  },
  "language_info": {
   "codemirror_mode": {
    "name": "ipython",
    "version": 3
   },
   "file_extension": ".py",
   "mimetype": "text/x-python",
   "name": "python",
   "nbconvert_exporter": "python",
   "pygments_lexer": "ipython3",
   "version": "3.8.10"
  }
 },
 "nbformat": 4,
 "nbformat_minor": 5
}
