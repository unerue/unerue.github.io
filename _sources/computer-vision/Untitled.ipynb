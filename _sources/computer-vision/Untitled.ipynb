{
 "cells": [
  {
   "cell_type": "markdown",
   "id": "1b00b800",
   "metadata": {},
   "source": [
    "# 특징 추출기\n",
    "\n",
    "## HOG\n",
    "\n",
    "HOG(histogram of oriented gradient)는 보행자 검출을 목적으로 만들어진 특징 추출기 중 하나로 엣지의 기울기 방향과 규모를 히스토그램으로 나타낸 것이다. SIFT, SURF, ORB 등과 같은 특징 추출기들은 특징점 하나하나에 대해서 있어 객체의 지역적 특성을 표현하는 데는 뛰어나지만, 전체적인 모양을 특징으로 표현하기 어렵다. 그에 반해서 HOG는 지역적인 특징보다 전체적인 모양을 표현하기 적합하다. \n",
    "\n",
    "HOG를 만들기 위해서 전체 이미지에서 인식하고자 하는 영역을 잘라내야 한다. 이것을 윈도우라고 하며 크기는 인식할 객체의 크기를 담을 수 있는 정도여야 한다. 객체가 너무 작거나 크면 확대하거나 축소해야 하지만 원래의 비율을 유지해야 한다. 보행자를 검출할 때는 사람이 세로로 긴 형태라서 보통 $64 \\times 128$ 크기로 한다. 잘라낸 영역을 소벨 필터를 이용해서 엣지의 기울기 gx, gy를 구하고 기울기의 방향과 크기를 계산한다.\n",
    "\n"
   ]
  },
  {
   "cell_type": "code",
   "execution_count": null,
   "id": "65ec87f3",
   "metadata": {},
   "outputs": [],
   "source": []
  }
 ],
 "metadata": {
  "kernelspec": {
   "display_name": "Python 3",
   "language": "python",
   "name": "python3"
  },
  "language_info": {
   "codemirror_mode": {
    "name": "ipython",
    "version": 3
   },
   "file_extension": ".py",
   "mimetype": "text/x-python",
   "name": "python",
   "nbconvert_exporter": "python",
   "pygments_lexer": "ipython3",
   "version": "3.7.7"
  }
 },
 "nbformat": 4,
 "nbformat_minor": 5
}
