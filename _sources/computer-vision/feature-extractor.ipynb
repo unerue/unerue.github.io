{
 "cells": [
  {
   "cell_type": "markdown",
   "id": "abe9091b",
   "metadata": {},
   "source": [
    "# 특징 추출기"
   ]
  },
  {
   "cell_type": "markdown",
   "id": "1ea56a8b",
   "metadata": {},
   "source": [
    "## SIFT\n",
    "\n",
    "## HOG"
   ]
  },
  {
   "cell_type": "code",
   "execution_count": null,
   "id": "8a881d30",
   "metadata": {},
   "outputs": [],
   "source": []
  }
 ],
 "metadata": {
  "kernelspec": {
   "display_name": "Python 3 (ipykernel)",
   "language": "python",
   "name": "python3"
  },
  "language_info": {
   "codemirror_mode": {
    "name": "ipython",
    "version": 3
   },
   "file_extension": ".py",
   "mimetype": "text/x-python",
   "name": "python",
   "nbconvert_exporter": "python",
   "pygments_lexer": "ipython3",
   "version": "3.9.7"
  }
 },
 "nbformat": 4,
 "nbformat_minor": 5
}
