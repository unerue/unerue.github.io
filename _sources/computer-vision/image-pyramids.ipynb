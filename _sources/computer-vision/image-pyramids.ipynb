{
 "cells": [
  {
   "cell_type": "markdown",
   "id": "cb07ac29",
   "metadata": {},
   "source": [
    "# 이미지 피라미드\n",
    "\n",
    "이미지 피라미드(image pyramids)는 영상의 크기를 단계적으로 축소 또는 확대해 피라미드처럼 쌓아 놓은 것을 말한다. 이렇게 하는 이유는 영상을 분석할 때 작은 이미지로 빠르게 훒어보고 다음 단계 크기의 영상으로 분석하는 식으로 정확도를 높이는 것이 효율적이기도 하고 영상의 크기에 따라 분석하는 내용이 다를 수도 있기 때문이다. \n",
    "\n",
    "## 가우시안 피라미드\n",
    "\n",
    "가우시안 필터를 적용한 후 이미지 피라미드를 구현하는 것을 가우시안 피라미드라고 한다.\n",
    "\n",
    "## 라플라시안 피라미드"
   ]
  },
  {
   "cell_type": "code",
   "execution_count": null,
   "id": "b60c1a0a",
   "metadata": {},
   "outputs": [],
   "source": []
  }
 ],
 "metadata": {
  "kernelspec": {
   "display_name": "Python 3 (ipykernel)",
   "language": "python",
   "name": "python3"
  },
  "language_info": {
   "codemirror_mode": {
    "name": "ipython",
    "version": 3
   },
   "file_extension": ".py",
   "mimetype": "text/x-python",
   "name": "python",
   "nbconvert_exporter": "python",
   "pygments_lexer": "ipython3",
   "version": "3.9.7"
  }
 },
 "nbformat": 4,
 "nbformat_minor": 5
}
