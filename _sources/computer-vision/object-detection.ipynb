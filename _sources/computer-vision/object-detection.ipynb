{
 "cells": [
  {
   "cell_type": "markdown",
   "id": "d02c1b0b",
   "metadata": {},
   "source": [
    "# 객체 탐지"
   ]
  },
  {
   "cell_type": "markdown",
   "id": "35889143",
   "metadata": {},
   "source": [
    "객체 탐지(object detection)는 컴퓨터 비전과 이미지 처리와 관련된 컴퓨터 기술로서, 디지털 이미지와 비디오로 특정한 계열의 시맨틱 객체 인스턴스(예: 인간, 건물, 자동차)를 감지하는 일을 다룬다. 잘 연구된 객체 탐지 분야로는 얼굴 검출, 보행자 검출이 포함된다. 객체 탐지는 영상 복구, 비디오 감시를 포함한 수많은 컴퓨터 비전 분야에 응용되고 있다. 객체 탐지를 위한 방식은 일반적으로 기계 학습 기반 접근 또는 딥 러닝 기반 접근으로 분류된다. 기계 학습 접근의 경우 우선 아래의 방식들 가운데 하나를 사용하여 정의한 다음 서포트 벡터 머신(SVM) 등의 기법을 사용하여 분류하는 일이 필요하다. 한편, 딥 러닝 기법은 기능을 구체적으로 정의하지 않고서도 단대단 객체 탐지를 할 수 있으며 합성곱 신경망(CNN)에 기반을 두는 것이 보통이다. \n",
    "\n",
    "아래의 그림은 딥러닝 기반 컴퓨터 비전의 대표적인 네 가지 모형들이다. 객체 탐지는 객체가 어디있는지 위치 탐지하고 해당 객체가 무엇인지 정보를 추출하는 기술이다."
   ]
  },
  {
   "cell_type": "markdown",
   "id": "b9de860f",
   "metadata": {},
   "source": [
    "<div>\n",
    "    <img src=\"https://unerue.synology.me/course/computer-vision/object1.png\" style=\"height: 200px;\" />\n",
    "</div>"
   ]
  },
  {
   "cell_type": "code",
   "execution_count": null,
   "id": "94f01c28",
   "metadata": {},
   "outputs": [],
   "source": []
  }
 ],
 "metadata": {
  "kernelspec": {
   "display_name": "Python 3 (ipykernel)",
   "language": "python",
   "name": "python3"
  },
  "language_info": {
   "codemirror_mode": {
    "name": "ipython",
    "version": 3
   },
   "file_extension": ".py",
   "mimetype": "text/x-python",
   "name": "python",
   "nbconvert_exporter": "python",
   "pygments_lexer": "ipython3",
   "version": "3.9.7"
  }
 },
 "nbformat": 4,
 "nbformat_minor": 5
}
