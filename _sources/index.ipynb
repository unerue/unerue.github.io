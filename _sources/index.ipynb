{
 "cells": [
  {
   "cell_type": "markdown",
   "metadata": {},
   "source": [
    "# 데이터 과학\n",
    "\n",
    "파이썬을 활용한 컴퓨터 비전, 딥러닝, 경영과학(OR/MS) 튜토리얼입니다. 본 강좌의 목적은 파이썬을 이용해 각 기술을 학습하고 구현하는데 있습니다. 따라서, 이론적인 내용 및 수리 모형으로 정식화 과정 생략하였습니다. 자세한 내용은 참고한 서적을 참고하시기 바랍니다.\n",
    "\n",
    "```{note}\n",
    "추후 공개 예정입니다.\n",
    "```"
   ]
  },
  {
   "cell_type": "markdown",
   "metadata": {},
   "source": [
    "|강의명|작성자|\n",
    "|:---|:---|\n",
    "|Intermediate Python|강경수, 정승환|\n",
    "|영상 처리 및 컴퓨터 비전|강경수, 정승환|\n",
    "|경영과학|강경수|"
   ]
  },
  {
   "cell_type": "markdown",
   "metadata": {},
   "source": [
    "{cite}`he2016deep`\n",
    "\n",
    "```{bibliography}\n",
    "```"
   ]
  }
 ],
 "metadata": {
  "kernelspec": {
   "display_name": "Python 3",
   "language": "python",
   "name": "python3"
  },
  "language_info": {
   "codemirror_mode": {
    "name": "ipython",
    "version": 3
   },
   "file_extension": ".py",
   "mimetype": "text/x-python",
   "name": "python",
   "nbconvert_exporter": "python",
   "pygments_lexer": "ipython3",
   "version": "3.7.7"
  }
 },
 "nbformat": 4,
 "nbformat_minor": 4
}
