{
 "cells": [
  {
   "cell_type": "markdown",
   "metadata": {
    "tags": [
     "parameters"
    ]
   },
   "source": [
    "# 객체지향프로그래밍과 디자인패턴\n",
    "\n",
    "삼육대학교 - 2023 1학기"
   ]
  },
  {
   "cell_type": "markdown",
   "metadata": {},
   "source": [
    "## 강의 일정\n",
    "\n",
    "<style>\n",
    ".schedule {\n",
    "    width: 100%;\n",
    "}\n",
    ".schedule th {\n",
    "    background: red;\n",
    "}\n",
    ".schedule tr:nth-child(1) { background: yellow; }\n",
    "</style>\n",
    "\n",
    "<div class=\"schedule\">\n",
    "\n",
    "|일자|설명|비고|?|\n",
    "|---|:---|:---|:---|\n",
    "|03/07|<b>강의 1: 오리엔테이션</b><br>객체지향프로그래밍 소개, 강의 진행 방법<br>[<a href=\"\">강의자료</a>]|||\n",
    "|03/14|<b>강의 2: 파이썬의 객체 이해하기</b><br>객체지향프로그래밍 소개, 강의 진행 방법<br>[<a href=\"\">강의자료</a>][<a href=\"\">소스코드</a>]|||\n",
    "|03/21|<b>강의 3: 객체가 유사한 경우와 예상치 못한 상황</b><br>객체지향프로그래밍 소개, 강의 진행 방법<br>[<a href=\"\">강의자료</a>]|||\n",
    "|03/28|<b>강의 4: 추상 기본 클래스와 연산자 오버로팅 이해하기</b><br>객체지향프로그래밍 소개, 강의 진행 방법<br>[<a href=\"\">강의자료</a>]|||\n",
    "|03/14|<b>강의 2: 파이썬의 객체 이해하기</b><br>객체지향프로그래밍 소개, 강의 진행 방법<br>[<a href=\"\">강의자료</a>][<a href=\"\">소스코드</a>]|||\n",
    "|03/14|<b>강의 2: 파이썬의 객체 이해하기</b><br>객체지향프로그래밍 소개, 강의 진행 방법<br>[<a href=\"\">강의자료</a>][<a href=\"\">소스코드</a>]|||\n",
    "|03/14|<b>강의 2: 파이썬의 객체 이해하기</b><br>객체지향프로그래밍 소개, 강의 진행 방법<br>[<a href=\"\">강의자료</a>][<a href=\"\">소스코드</a>]|||\n",
    "|03/14|<b>강의 2: 파이썬의 객체 이해하기</b><br>객체지향프로그래밍 소개, 강의 진행 방법<br>[<a href=\"\">강의자료</a>][<a href=\"\">소스코드</a>]|||\n",
    "|03/14|<b>강의 2: 파이썬의 객체 이해하기</b><br>객체지향프로그래밍 소개, 강의 진행 방법<br>[<a href=\"\">강의자료</a>][<a href=\"\">소스코드</a>]|||\n",
    "|03/14|<b>강의 2: 파이썬의 객체 이해하기</b><br>객체지향프로그래밍 소개, 강의 진행 방법<br>[<a href=\"\">강의자료</a>][<a href=\"\">소스코드</a>]|||\n",
    "|03/14|<b>강의 2: 파이썬의 객체 이해하기</b><br>객체지향프로그래밍 소개, 강의 진행 방법<br>[<a href=\"\">강의자료</a>][<a href=\"\">소스코드</a>]|||\n",
    "    \n",
    "</div>"
   ]
  },
  {
   "cell_type": "code",
   "execution_count": null,
   "metadata": {},
   "outputs": [],
   "source": []
  }
 ],
 "metadata": {
  "kernelspec": {
   "display_name": "Python 3 (ipykernel)",
   "language": "python",
   "name": "python3"
  },
  "language_info": {
   "codemirror_mode": {
    "name": "ipython",
    "version": 3
   },
   "file_extension": ".py",
   "mimetype": "text/x-python",
   "name": "python",
   "nbconvert_exporter": "python",
   "pygments_lexer": "ipython3",
   "version": "3.9.16"
  }
 },
 "nbformat": 4,
 "nbformat_minor": 2
}
