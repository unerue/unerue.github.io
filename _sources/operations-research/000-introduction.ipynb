{
 "cells": [
  {
   "cell_type": "markdown",
   "metadata": {},
   "source": [
    "# 1장 시작하기 앞서\n",
    "\n",
    "<p align=\"center\">\n",
    "  <img alt=\"Python37\" src=\"https://img.shields.io/badge/Python-3.7-blue.svg\" /><img alt=\"EXCEL2016\" src=\"https://img.shields.io/badge/EXCEL-2016-seagreen.svg\" /> <img alt=\"Version\" src=\"https://img.shields.io/badge/Version-0.2-yellow.svg\" /><img alt=\"Kyungsu\" src=\"https://img.shields.io/badge/Created%20by-Kyungsu-orange.svg?style=flat&colorA=E1523D&colorB=blue\" /><br>\n",
    "  <img height=\"70\" src=\"https://upload.wikimedia.org/wikipedia/en/a/a7/COIN_OR_LOGO.png\" />\n",
    "  <img height=\"70\" src=\"https://assets.gurobi.com/img/logos/logo.png\" />\n",
    "  <img height=\"70\" src=\"https://repository-images.githubusercontent.com/20035587/2559bd00-9a75-11e9-9686-0697d18522cf\" />\n",
    "</p>\n",
    "\n",
    "파이썬을 활용한 경영과학(OR/MS) 튜토리얼입니다. 본 강좌의 목적은 수리 모형을 파이썬으로 구현하는데 있습니다. 따라서, 이론적인 내용 및 수리 모형으로 정식화 과정 생략하였습니다. 자세한 내용은 참고한 서적을 참고하시기 바랍니다.\n",
    "\n",
    "```\n",
    "conda config --add channels https://conda.anaconda.org/gurobi\n",
    "conda install gurobi\n",
    "\n",
    "pip install pulp\n",
    "\n",
    "pip install deap\n",
    "```\n",
    "\n",
    "## Dependencies\n",
    "\n",
    "`or-tutorial` requires:\n",
    "\n",
    "* Python (>= 3.7.4)\n",
    "* NumPy (>= 1.16.5)\n",
    "* pandas (>= 0.25.1)\n",
    "* PuLP (>= 1.6.9)\n",
    "* GUROBI (>= 8.1.1)\n",
    "* DEAP (>= 1.3.1)\n",
    "* tabulate (>= 0.8.5)"
   ]
  },
  {
   "cell_type": "code",
   "execution_count": 1,
   "metadata": {},
   "outputs": [
    {
     "name": "stdout",
     "output_type": "stream",
     "text": [
      "Restricted license - for non-production use only - expires 2022-01-13\n",
      "No parameters matching '_test' found\n"
     ]
    },
    {
     "data": {
      "text/plain": [
       "['GUROBI', 'GUROBI_CMD', 'PULP_CBC_CMD', 'PULP_CHOCO_CMD']"
      ]
     },
     "execution_count": 1,
     "metadata": {},
     "output_type": "execute_result"
    }
   ],
   "source": [
    "import pulp as pl\n",
    "\n",
    "pl.listSolvers(onlyAvailable=True)"
   ]
  },
  {
   "cell_type": "code",
   "execution_count": null,
   "metadata": {},
   "outputs": [],
   "source": []
  }
 ],
 "metadata": {
  "kernelspec": {
   "display_name": "Python 3",
   "language": "python",
   "name": "python3"
  },
  "language_info": {
   "codemirror_mode": {
    "name": "ipython",
    "version": 3
   },
   "file_extension": ".py",
   "mimetype": "text/x-python",
   "name": "python",
   "nbconvert_exporter": "python",
   "pygments_lexer": "ipython3",
   "version": "3.8.10"
  }
 },
 "nbformat": 4,
 "nbformat_minor": 4
}
