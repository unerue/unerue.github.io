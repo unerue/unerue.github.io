{
 "cells": [
  {
   "cell_type": "markdown",
   "metadata": {},
   "source": [
    "# Evolution Strategy\n",
    "\n",
    "<p style=\"text-indent: 1.5em\"><b>진화 전략(evolution strategy, ES)</b>은 1964년에 처음 소개되었으며, 초기 연구는 Schwefel (1965)과 Rechenberg (1965)가 주도하였습니다. 유체 역학의 문제인 바람터널, 굽은 파이프 등의 모양 최적화 연구에서 관련 파라미터를 구하는 데 이들 값을 임의로 변화시키는 것에서 시작되었습니다. 파라미터를 임의로 변화시키는 것은 자연의 진화과정에서 돌연변이와 유사하다고 볼 수 있습니다.</p>\n",
    "    \n",
    "<p style=\"text-indent: 1.5em\">초기 진화 전략은 한 부모에서 돌연변이에 의해 하나의 변형된 하나의 자손을 생산하고 부모와 자손 중에서 더 좋은 개체를 다음 세대에 생존시켜 다시 자손을 생산하는 전략을 사용하였습니다. 따라서 복수해를 발생시켜 결합하는 교차연산은 없었습니다. 1970년대, 진화전략은 유전 알고리즘과 같이 복수의 개체로 구성된 해집단을 운영하는 형태로 발전하였습니다. 해집단에 있는 개체가 하나 또는 복수 개의 자손을 생산하여, 부모 개체와 자손 개체 모두에서 집단 크기만큼의 가장 좋은 개체를 확정적으로 선택하여 이들을 다음 세대의 부모로 선택되어 자손을 생성하며 진화시키는 과정을 반복합니다.</p>\n",
    "\n",
    "<p style=\"text-indent: 1.5em\">진화 전략과 유전 알고리즘을 유사하지만, 다음 표 1과 같이 차이점을 가지고 있습니다. 진화 전략과 유전 알고리즘은 독립적으로 탄생했지만, 현재 해집단의 진화로부터 최적해를 찾는다는 점에서 유사합니다.</p>\n",
    "\n",
    "<div style=\"text-align: center; padding-top: 1em; padding-bottom: 1em;\"><b>표 1 </b>진화 전략과 유전 알고리즘의 차이<br><img src=\"{{ site.url }}/images/figures/es-01.png\" width=\"50%\" /></div>\n",
    "\n",
    "## 파이썬으로 구현하는 진화 전략\n",
    "\n",
    "### (1+1)-ES\n",
    "\n",
    "<p style=\"text-indent: 1.5em\">처음 제안된 진화 전략은 앞에서 언급했듯이 하나의 부모개체를 돌연변이시켜 하나의 자손을 생산하고 생산된 자손개체가 문제가 갖는 제약을 만족하고 부모개체보다 더 좋으면 자손개체를 다음 세대의 부모개체로 선택하고 그렇지 않으면 부모개체를 그대로 다음 세대의 부모개체로 선택합니다. 이와 같이 한 부모에서 하나의 자손을 생산하고 이를 부모개체와 비교하여 더 좋은 개체를 선택하는 진화전략을 <b>(1+1)-ES</b>로 표현합니다. 이는 교차연산없이 돌연변이와 선택연산만 사용합니다.</p>\n",
    "\n",
    "* **STEP 1:** $t \\leftarrow 0$로 둔다.\n",
    "* **STEP 2:** 제약조건을 만족하는 하나의 부모개체 $p^{t}$를 생성하고, 이를 평가한다.\n",
    "* **STEP 3:** $p^{t}$를 돌연변이시켜 하나의 자손 $o^{t}$를 생산한다.\n",
    "* **STEP 4:** $o^{t}$가 제약을 만족하면, 평가한다. 그렇지 않으면 단계 6으로 간다.\n",
    "* **STEP 5:** $p^{t}$와 $o^{t}$ 중 더 좋은 개체를 $p^{t}$로 갱신한다.\n",
    "* **STEP 6:** 종료조건을 만족하면 끝낸다. 그렇지 않으면 $t \\leftarrow t+1, p^{t} \\leftarrow p^{t-1}$로 두고 단계 3으로 간다.\n",
    "\n",
    "<p style=\"text-indent: 1.5em\">파라미터 최적화에 사용된 초기 진화 전략에서 개체는 실수 벡터의 쌍 $(\\mathbf{x}, \\mathbf{\\sigma})$로 표현하였다. 여기서 벡터 $\\mathbf{x}$는 탐색 공간의 점이고, $\\mathbf{\\sigma}$는 표준편차 벡터이다. $\\mathbf{x}^{t}$를 돌연변이한 자손개체 $\\mathbf{x}^{t+1}$는 다음과 같습니다.</p>\n",
    "\n",
    "$$\\begin{equation}\n",
    "\\mathbf{x}^{t+1}=\\mathbf{x}^{t}+N(0,\\mathbf{\\sigma})\n",
    "\\end{equation}$$\n",
    "\n",
    "<p style=\"text-indent: 1.5em\">여기서 $N(0,\\mathbf{\\sigma})$는 평균이 0이고 표준편차가 $\\sigma$인 정규분포에서 추출한 난수 벡터이다. (1+1)-ES를 다음 최대화문제의 예에 적용해봅시다.</p>\n",
    "\n",
    "$$\\begin{equation}\n",
    "f(x)=x^2 \\times \\sin(x)^3\n",
    "\\end{equation}$$"
   ]
  },
  {
   "cell_type": "code",
   "execution_count": 10,
   "metadata": {},
   "outputs": [],
   "source": [
    "import numpy as np\n",
    "\n",
    "\n",
    "class EvolutionStrategy:\n",
    "    def __init__(self, sigma, lower_bound, upper_bound, max_iter):\n",
    "        self.sigma = sigma\n",
    "        self.lower_bound = lower_bound\n",
    "        self.upper_bound = upper_bound\n",
    "        self.max_iter = max_iter\n",
    "        self.history = {'fitness': [], 'solution': []}\n",
    "        \n",
    "    def _generate(self):\n",
    "        # =RAND()*(b-a)+a\n",
    "        p = np.random.rand()*(self.upper_bound-self.lower_bound)+self.lower_bound\n",
    "        return p\n",
    "    \n",
    "    def _check_range(self, x):\n",
    "        if self.lower_bound <= x <= self.upper_bound:\n",
    "            return True\n",
    "    \n",
    "    def _fitness(self, x):\n",
    "        return x**2 * np.sin(x)**6.0\n",
    "    \n",
    "    def optimize(self):\n",
    "        p = (self._generate(), self.sigma) # (p, sigma)\n",
    "        while self.max_iter:\n",
    "            o = (p[0] + np.random.normal(0, p[1]), p[1])\n",
    "            if self._check_range(o[0]):\n",
    "                if self._fitness(p[0]) < self._fitness(o[0]):\n",
    "                    p = o\n",
    "                else:\n",
    "                    p = p\n",
    "            else:\n",
    "                pass\n",
    "                \n",
    "            self.history['fitness'].append(self._fitness(p[0]))\n",
    "            self.history['solution'].append(p[0])\n",
    "            self.max_iter -= 1        "
   ]
  },
  {
   "cell_type": "code",
   "execution_count": 11,
   "metadata": {},
   "outputs": [],
   "source": [
    "es = EvolutionStrategy(1, 0, 2, 300)\n",
    "es.optimize()"
   ]
  },
  {
   "cell_type": "markdown",
   "metadata": {},
   "source": [
    "<p style=\"text-indent: 1.5em\"></p>\n",
    "\n",
    "<div style=\"text-align:center\"><img src=\"{{ site.url }}/images/figures/es-01.gif\"  width=\"50%\" /><br><b>그림 1 </b>진화 전략 목적함수 최대화 과정</div><br>\n",
    "\n",
    "<div style=\"text-align:center\"><img src=\"{{ site.url }}/images/figures/es-02.gif\"  width=\"50%\" /><br><b>그림 2 </b>최적해와 진화 전략의 해</div><br>"
   ]
  },
  {
   "cell_type": "code",
   "execution_count": null,
   "metadata": {},
   "outputs": [],
   "source": []
  },
  {
   "cell_type": "markdown",
   "metadata": {},
   "source": [
    "### ($\\mu$+1)-ES\n",
    "\n",
    "<p style=\"text-indent: 1.5em\"></p>"
   ]
  },
  {
   "cell_type": "code",
   "execution_count": null,
   "metadata": {},
   "outputs": [],
   "source": [
    "class EvolutionStrategy:\n",
    "    def __init__(self, n_vars, sigma, lower_bound, upper_bound, max_iter):\n",
    "        self.lower_bound = lower_bound\n",
    "        self.upper_bound = upper_bound\n",
    "        self.max_iter = max_iter\n",
    "        self.history = {'fitness': [], 'solution': []}\n",
    "    \n",
    "    def _check_range(self, x):\n",
    "        if self.lower_bound <= x <= self.upper_bound:\n",
    "            return True\n",
    "    \n",
    "    def _fitness(self, x):\n",
    "        return x**2 * np.sin(x)**6.0\n",
    "    \n",
    "    def optimize(self):\n",
    "        p = (np.random.rand(), np.random.rand()) # (p, sigma)\n",
    "        while self.max_iter:\n",
    "            o = (p[0] + np.random.normal(0, p[1]), p[1])\n",
    "            if self._check_range(o[0]):\n",
    "                if self._fitness(p[0]) < self._fitness(o[0]):\n",
    "                    x = o\n",
    "                else:\n",
    "                    x = x\n",
    "            else:\n",
    "                pass\n",
    "                \n",
    "            self.history['fitness'].append(self._fitness(x[0]))\n",
    "            self.history['solution'].append(x[0])\n",
    "            self.max_iter -= 1        "
   ]
  },
  {
   "cell_type": "code",
   "execution_count": null,
   "metadata": {},
   "outputs": [],
   "source": []
  },
  {
   "cell_type": "code",
   "execution_count": null,
   "metadata": {},
   "outputs": [],
   "source": []
  },
  {
   "cell_type": "markdown",
   "metadata": {},
   "source": [
    "#### ($\\mu$+$\\lambda$)-ES"
   ]
  },
  {
   "cell_type": "code",
   "execution_count": null,
   "metadata": {},
   "outputs": [],
   "source": []
  },
  {
   "cell_type": "code",
   "execution_count": null,
   "metadata": {},
   "outputs": [],
   "source": []
  },
  {
   "cell_type": "code",
   "execution_count": null,
   "metadata": {},
   "outputs": [],
   "source": []
  },
  {
   "cell_type": "markdown",
   "metadata": {},
   "source": [
    "#### ($\\mu$,$\\lambda$)-ES"
   ]
  },
  {
   "cell_type": "code",
   "execution_count": null,
   "metadata": {},
   "outputs": [],
   "source": []
  },
  {
   "cell_type": "code",
   "execution_count": null,
   "metadata": {},
   "outputs": [],
   "source": []
  },
  {
   "cell_type": "code",
   "execution_count": null,
   "metadata": {},
   "outputs": [],
   "source": []
  },
  {
   "cell_type": "code",
   "execution_count": null,
   "metadata": {},
   "outputs": [],
   "source": []
  },
  {
   "cell_type": "code",
   "execution_count": 15,
   "metadata": {},
   "outputs": [
    {
     "data": {
      "image/png": "[encoded data removed]",
      "text/plain": [
       "<Figure size 432x288 with 1 Axes>"
      ]
     },
     "metadata": {
      "needs_background": "light"
     },
     "output_type": "display_data"
    }
   ],
   "source": [
    "import matplotlib.pyplot as plt\n",
    "\n",
    "plt.plot(range(len(es.history['fitness'])), es.history['fitness'])\n",
    "plt.show()"
   ]
  },
  {
   "cell_type": "code",
   "execution_count": 13,
   "metadata": {},
   "outputs": [],
   "source": [
    "def f(x):\n",
    "    return x**2 * np.sin(x)**3\n",
    "#     return 1 / ((x-.3)**2 + .01) + 1 / ((x-.9)**2 + .04) - 6"
   ]
  },
  {
   "cell_type": "code",
   "execution_count": 14,
   "metadata": {},
   "outputs": [
    {
     "data": {
      "image/png": "[encoded data removed]",
      "text/plain": [
       "<Figure size 432x288 with 1 Axes>"
      ]
     },
     "metadata": {
      "needs_background": "light"
     },
     "output_type": "display_data"
    }
   ],
   "source": [
    "x = np.linspace(0, 3, 100)\n",
    "\n",
    "plt.plot(x, f(x))\n",
    "plt.title('(1+1)-ES $x^2\\sin(x)^3$')\n",
    "# plt.scatter(es.history['solution'], es.history['fitness'], c='r')\n",
    "plt.show()"
   ]
  },
  {
   "cell_type": "code",
   "execution_count": null,
   "metadata": {},
   "outputs": [],
   "source": []
  },
  {
   "cell_type": "code",
   "execution_count": null,
   "metadata": {},
   "outputs": [],
   "source": []
  },
  {
   "cell_type": "code",
   "execution_count": null,
   "metadata": {},
   "outputs": [],
   "source": []
  },
  {
   "cell_type": "code",
   "execution_count": null,
   "metadata": {},
   "outputs": [],
   "source": []
  },
  {
   "cell_type": "code",
   "execution_count": 686,
   "metadata": {},
   "outputs": [
    {
     "ename": "TypeError",
     "evalue": "_fitness() missing 1 required positional argument: 'x'",
     "output_type": "error",
     "traceback": [
      "\u001b[0;31m---------------------------------------------------------------------------\u001b[0m",
      "\u001b[0;31mTypeError\u001b[0m                                 Traceback (most recent call last)",
      "\u001b[0;32m<ipython-input-686-460df615300c>\u001b[0m in \u001b[0;36m<module>\u001b[0;34m\u001b[0m\n\u001b[0;32m----> 1\u001b[0;31m \u001b[0mSimpleEvolutionStrategy\u001b[0m\u001b[0;34m(\u001b[0m\u001b[0;34m)\u001b[0m\u001b[0;34m.\u001b[0m\u001b[0m_fitness\u001b[0m\u001b[0;34m(\u001b[0m\u001b[0;36m4\u001b[0m\u001b[0;34m)\u001b[0m\u001b[0;34m\u001b[0m\u001b[0;34m\u001b[0m\u001b[0m\n\u001b[0m",
      "\u001b[0;31mTypeError\u001b[0m: _fitness() missing 1 required positional argument: 'x'"
     ]
    }
   ],
   "source": [
    "SimpleEvolutionStrategy()._fitness(4)"
   ]
  },
  {
   "cell_type": "code",
   "execution_count": null,
   "metadata": {},
   "outputs": [],
   "source": []
  },
  {
   "cell_type": "code",
   "execution_count": null,
   "metadata": {},
   "outputs": [],
   "source": []
  },
  {
   "cell_type": "code",
   "execution_count": 866,
   "metadata": {},
   "outputs": [],
   "source": [
    "import numpy as np\n",
    "\n",
    "\n",
    "class SimpleEvolutionStrategy:\n",
    "    \"\"\" (1+1)-ES\n",
    "    \"\"\"\n",
    "    def __init__(self, sigma, lower_bound, upper_bound):\n",
    "        self.sigma = sigma\n",
    "        self.lower_bound = lower_bound\n",
    "        self.upper_bound = upper_bound\n",
    "    \n",
    "    def _check_range(self, x):\n",
    "        if self.lower_bound <= x <= self.upper_bound:\n",
    "            return x\n",
    "        else:\n",
    "            return (self.upper_bound-self.lower_bound) / 2\n",
    "    \n",
    "    def _fitness(self, x):\n",
    "        return 1 / ((x-.3)**2 + .01) + 1 / ((x-.9)**2 + .04) - 6\n",
    "#         return np.sin(10*x)*x + np.cos(2*x)*x \n",
    "#         return x * np.sin(x) * np.cos(x)\n",
    "    \n",
    "    def optimize(self):\n",
    "        t = 1000\n",
    "        x = np.random.randint(self.lower_bound, self.upper_bound)\n",
    "        self.history = {'fitness': [], 'solution': []}\n",
    "        while t:\n",
    "            o = x + np.random.normal(0, 1)\n",
    "#             o = np.clip(o, self.lower_bound, self.upper_bound)\n",
    "            o = self._check_range(o)\n",
    "            if self._fitness(x) < self._fitness(o):\n",
    "                x = o\n",
    "                \n",
    "            self.history['fitness'].append(self._fitness(x))\n",
    "            self.history['solution'].append(x)\n",
    "            t -= 1\n",
    "        print('Done!')\n",
    "            \n",
    "            \n",
    "        "
   ]
  },
  {
   "cell_type": "code",
   "execution_count": null,
   "metadata": {},
   "outputs": [],
   "source": []
  },
  {
   "cell_type": "code",
   "execution_count": 867,
   "metadata": {},
   "outputs": [
    {
     "name": "stdout",
     "output_type": "stream",
     "text": [
      "Done!\n"
     ]
    }
   ],
   "source": [
    "es = SimpleEvolutionStrategy(1, -5, 5)\n",
    "es.optimize()"
   ]
  },
  {
   "cell_type": "code",
   "execution_count": 868,
   "metadata": {},
   "outputs": [
    {
     "data": {
      "image/png": "[encoded data removed]",
      "text/plain": [
       "<Figure size 432x288 with 1 Axes>"
      ]
     },
     "metadata": {
      "needs_background": "light"
     },
     "output_type": "display_data"
    }
   ],
   "source": [
    "import matplotlib.pyplot as plt\n",
    "\n",
    "plt.plot(range(len(es.history['fitness'])), es.history['fitness'])\n",
    "plt.show()"
   ]
  },
  {
   "cell_type": "code",
   "execution_count": 869,
   "metadata": {},
   "outputs": [],
   "source": [
    "def f(x):\n",
    "    return 1 / ((x-.3)**2 + .01) + 1 / ((x-.9)**2 + .04) - 6\n",
    "#     return np.sin(10*np.pi*x) + np.cos(x)\n",
    "#     return -10*x**2 + 50"
   ]
  },
  {
   "cell_type": "code",
   "execution_count": 871,
   "metadata": {},
   "outputs": [
    {
     "data": {
      "image/png": "[encoded data removed]",
      "text/plain": [
       "<Figure size 432x288 with 1 Axes>"
      ]
     },
     "metadata": {
      "needs_background": "light"
     },
     "output_type": "display_data"
    }
   ],
   "source": [
    "x = np.linspace(0, 2, 1000)\n",
    "\n",
    "plt.plot(x, f(x))\n",
    "plt.scatter(es.history['solution'], es.history['fitness'], c='r')\n",
    "plt.show()"
   ]
  },
  {
   "cell_type": "markdown",
   "metadata": {},
   "source": [
    "# "
   ]
  },
  {
   "cell_type": "code",
   "execution_count": null,
   "metadata": {},
   "outputs": [],
   "source": []
  },
  {
   "cell_type": "code",
   "execution_count": 494,
   "metadata": {},
   "outputs": [],
   "source": [
    "import numpy as np\n",
    "\n",
    "\n",
    "class SimpleEvolutionStrategy:\n",
    "    \"\"\" (1+1)-ES\n",
    "    \"\"\"\n",
    "    def __init__(self, fitness, n_vars, lower_bound, upper_bound):\n",
    "        self.fitness = fitness\n",
    "        self.n_vars = n_vars\n",
    "        self.lower_bound = lower_bound\n",
    "        self.upper_bound = upper_bound\n",
    "    \n",
    "    def _check_range(self, x):\n",
    "        if self.lower_bound <= x <= self.upper_bound:\n",
    "            return x\n",
    "        else:\n",
    "            return (self.upper_bound-self.lower_bound) / 2\n",
    "    \n",
    "    def optimize(self):\n",
    "        t = 1000\n",
    "        x = np.random.randint(self.lower_bound, self.upper_bound, size=self.n_vars)\n",
    "        self.history = {'fitness': [], 'solution': []}\n",
    "        print(x)\n",
    "        while t:\n",
    "            o = x + np.random.normal(0, 1, size=self.n_vars)\n",
    "            o = np.clip(o, self.lower_bound, self.upper_bound)\n",
    "            if self.fitness(x) < self.fitness(o):\n",
    "                x = o\n",
    "                print(x, self.fitness(x))\n",
    "                \n",
    "            self.history['fitness'].append(self.fitness(x))\n",
    "            self.history['solution'].append(list(x))\n",
    "                \n",
    "            t -= 1\n",
    "        print('Done!')\n",
    "            \n",
    "            \n",
    "        "
   ]
  },
  {
   "cell_type": "code",
   "execution_count": 495,
   "metadata": {},
   "outputs": [
    {
     "name": "stdout",
     "output_type": "stream",
     "text": [
      "[-3  0]\n",
      "[-3.         -0.34090571] -0.08343966531845368\n",
      "[-3.          1.22537557] -0.05159547465516149\n",
      "[-2.93859834  2.19756861] -0.0217471341859579\n",
      "[-3.  3.] -0.004319343143033784\n",
      "[-0.49413023  0.89046464] 0.029627342818474123\n",
      "[0.13875731 0.85728452] 0.2405254835621946\n",
      "[0.23798226 0.32762929] 0.8367057084706562\n",
      "[-0.30320131 -0.81219142] 0.9915457545349784\n",
      "[-0.25964703 -2.16721212] 1.0262114752380231\n",
      "[-0.08007263 -1.67077425] 1.3965971846134209\n",
      "[ 0.11825656 -1.60194015] 1.4028988704993592\n",
      "[-0.00433767 -1.54821468] 1.421065789730402\n",
      "Done!\n"
     ]
    }
   ],
   "source": [
    "def f(x):\n",
    "    return (1-(x[0]**2+x[1]**3)) * np.exp(-(x[0]**2+x[1]**2)/2)\n",
    "\n",
    "es = SimpleEvolutionStrategy(f, 2, -3, 3)\n",
    "es.optimize()"
   ]
  },
  {
   "cell_type": "code",
   "execution_count": 496,
   "metadata": {},
   "outputs": [],
   "source": [
    "v1 = []\n",
    "v2 = []\n",
    "for v in es.history['solution']:\n",
    "    v1.append(v[0])\n",
    "    v2.append(v[1])"
   ]
  },
  {
   "cell_type": "code",
   "execution_count": 500,
   "metadata": {},
   "outputs": [
    {
     "data": {
      "image/png": "[encoded data removed]",
      "text/plain": [
       "<Figure size 600x400 with 2 Axes>"
      ]
     },
     "metadata": {
      "needs_background": "light"
     },
     "output_type": "display_data"
    }
   ],
   "source": [
    "v1 = []\n",
    "v2 = []\n",
    "for v in es.history['solution']:\n",
    "    v1.append(v[0])\n",
    "    v2.append(v[1])\n",
    "\n",
    "import numpy as np\n",
    "import matplotlib.pyplot as plt\n",
    "\n",
    "\n",
    "# the function that I'm going to plot\n",
    "def fitness(x, y):\n",
    "    return (1-(x**2+y**3)) * np.exp(-(x**2+y**2)/2)\n",
    " \n",
    "x = np.arange(-4.0, 4.0, 0.1)\n",
    "y = np.arange(-4.0, 4.0, 0.1)\n",
    "X,Y = np.meshgrid(x, y) # grid of point\n",
    "Z = fitness(X, Y) # evaluation of the function on the grid\n",
    "\n",
    "fig,ax = plt.subplots(dpi=100)\n",
    "cp = ax.contourf(X, Y, Z)\n",
    "fig.colorbar(cp)\n",
    "ax.scatter(v1, v2, c='r', edgecolor='black')\n",
    "\n",
    "# latex fashion title\n",
    "ax.set_title('$z=(1-x^2+y^3) e^{-(x^2+y^2)/2}$')\n",
    "plt.show()"
   ]
  },
  {
   "cell_type": "code",
   "execution_count": null,
   "metadata": {},
   "outputs": [],
   "source": []
  },
  {
   "cell_type": "code",
   "execution_count": null,
   "metadata": {},
   "outputs": [],
   "source": []
  },
  {
   "cell_type": "code",
   "execution_count": null,
   "metadata": {},
   "outputs": [],
   "source": []
  },
  {
   "cell_type": "code",
   "execution_count": null,
   "metadata": {},
   "outputs": [],
   "source": []
  },
  {
   "cell_type": "code",
   "execution_count": 635,
   "metadata": {},
   "outputs": [],
   "source": [
    "import numpy as np\n",
    "\n",
    "\n",
    "class EvolutionStrategy:\n",
    "    \"\"\" (mu+1)-ES\n",
    "    \"\"\"\n",
    "    def __init__(self, fitness, pop_size, n_vars, lower_bound, upper_bound):\n",
    "        self.fitness = fitness\n",
    "        self.pop_size = pop_size\n",
    "        self.n_vars = n_vars\n",
    "        self.lower_bound = lower_bound\n",
    "        self.upper_bound = upper_bound\n",
    "        \n",
    "    def optimize(self):\n",
    "        t = 100\n",
    "        x = np.random.randint(self.lower_bound, self.upper_bound, size=(self.pop_size, self.n_vars))\n",
    "        self.history = {'fitness': [], 'solution': []}\n",
    "        while t:\n",
    "#             x = x + np.random.normal(0, 1, size=(self.pop_size, self.n_vars))\n",
    "            x = np.clip(x, self.lower_bound, self.upper_bound)\n",
    "            \n",
    "            offspring = []\n",
    "            for i in range(x.shape[1]):\n",
    "                offspring.append(np.random.choice(x[:,i]))\n",
    "            \n",
    "            offspring = offspring + np.random.normal(0, 1, size=self.n_vars)\n",
    "            x = np.vstack([x, offspring])\n",
    "            \n",
    "            mask = np.array([self.fitness(*v) for v in x]).argsort()\n",
    "#             fitness = self.fitness(*x[mask[::-1]][0])\n",
    "            fitness = self.fitness(*x[mask][0])\n",
    "            print(fitness)\n",
    "\n",
    "                 \n",
    "#             if self.fitness(x) < self.fitness(o):\n",
    "#                 x = o\n",
    "#                 print(x, self.fitness(x))\n",
    "                \n",
    "            self.history['fitness'].append(fitness)\n",
    "#             self.history['solution'].append(list(x[mask[::-1]][0]))\n",
    "            self.history['solution'].append(list(x[mask][0]))\n",
    "#             x = x[mask[::-1]][:self.pop_size]\n",
    "            x = x[mask][:self.pop_size]\n",
    "            t -= 1\n",
    "        print('Done!')\n",
    "            \n",
    "            \n",
    "        "
   ]
  },
  {
   "cell_type": "code",
   "execution_count": 636,
   "metadata": {},
   "outputs": [
    {
     "name": "stdout",
     "output_type": "stream",
     "text": [
      "1.0\n",
      "1.0\n",
      "1.0\n",
      "1.0\n",
      "1.0\n",
      "1.0\n",
      "0.8552289445153742\n",
      "0.8552289445153742\n",
      "0.8552289445153742\n",
      "0.38713682048809017\n",
      "0.38713682048809017\n",
      "0.38713682048809017\n",
      "0.38713682048809017\n",
      "0.28087088737200305\n",
      "0.28087088737200305\n",
      "0.28087088737200305\n",
      "0.28087088737200305\n",
      "0.28087088737200305\n",
      "0.28087088737200305\n",
      "0.28087088737200305\n",
      "0.28087088737200305\n",
      "0.28087088737200305\n",
      "0.28087088737200305\n",
      "0.28087088737200305\n",
      "0.28087088737200305\n",
      "0.28087088737200305\n",
      "0.28087088737200305\n",
      "0.28087088737200305\n",
      "0.28087088737200305\n",
      "0.28087088737200305\n",
      "0.28087088737200305\n",
      "0.26312036565638014\n",
      "0.26312036565638014\n",
      "0.26312036565638014\n",
      "0.26312036565638014\n",
      "0.26312036565638014\n",
      "0.26312036565638014\n",
      "0.21952856454499112\n",
      "0.21952856454499112\n",
      "0.21952856454499112\n",
      "0.21952856454499112\n",
      "0.21952856454499112\n",
      "0.21952856454499112\n",
      "0.21952856454499112\n",
      "0.21952856454499112\n",
      "0.21952856454499112\n",
      "0.21952856454499112\n",
      "0.21952856454499112\n",
      "0.21952856454499112\n",
      "0.21952856454499112\n",
      "0.21952856454499112\n",
      "0.21952856454499112\n",
      "0.21952856454499112\n",
      "0.21952856454499112\n",
      "0.21952856454499112\n",
      "0.21952856454499112\n",
      "0.21952856454499112\n",
      "0.21952856454499112\n",
      "0.21952856454499112\n",
      "0.21952856454499112\n",
      "0.21952856454499112\n",
      "0.21952856454499112\n",
      "0.21952856454499112\n",
      "0.21952856454499112\n",
      "0.21952856454499112\n",
      "0.21952856454499112\n",
      "0.21952856454499112\n",
      "0.21952856454499112\n",
      "0.21952856454499112\n",
      "0.21952856454499112\n",
      "0.21952856454499112\n",
      "0.21952856454499112\n",
      "0.21952856454499112\n",
      "0.21952856454499112\n",
      "0.21952856454499112\n",
      "0.21952856454499112\n",
      "0.21952856454499112\n",
      "0.1616719494881404\n",
      "0.1616719494881404\n",
      "0.1616719494881404\n",
      "0.1616719494881404\n",
      "0.1616719494881404\n",
      "0.1616719494881404\n",
      "0.1616719494881404\n",
      "0.1616719494881404\n",
      "0.1616719494881404\n",
      "0.1616719494881404\n",
      "0.1616719494881404\n",
      "0.1616719494881404\n",
      "0.1616719494881404\n",
      "0.1616719494881404\n",
      "0.1616719494881404\n",
      "0.1616719494881404\n",
      "0.1616719494881404\n",
      "0.1616719494881404\n",
      "0.1616719494881404\n",
      "0.1616719494881404\n",
      "0.1616719494881404\n",
      "0.1616719494881404\n",
      "0.1616719494881404\n",
      "Done!\n"
     ]
    }
   ],
   "source": [
    "def f(x, y):\n",
    "    return np.sqrt(x**2 + y**2)\n",
    "\n",
    "es = EvolutionStrategy(f, 10, 2, -3, 3)\n",
    "es.optimize()"
   ]
  },
  {
   "cell_type": "code",
   "execution_count": 637,
   "metadata": {},
   "outputs": [
    {
     "data": {
      "image/png": "[encoded data removed]",
      "text/plain": [
       "<Figure size 432x288 with 1 Axes>"
      ]
     },
     "metadata": {
      "needs_background": "light"
     },
     "output_type": "display_data"
    }
   ],
   "source": [
    "import matplotlib.pyplot as plt\n",
    "\n",
    "plt.plot(range(len(es.history['fitness'])), es.history['fitness'])\n",
    "plt.show()"
   ]
  },
  {
   "cell_type": "code",
   "execution_count": 638,
   "metadata": {},
   "outputs": [
    {
     "data": {
      "image/png": "[encoded data removed]",
      "text/plain": [
       "<Figure size 600x400 with 2 Axes>"
      ]
     },
     "metadata": {
      "needs_background": "light"
     },
     "output_type": "display_data"
    }
   ],
   "source": [
    "v1 = []\n",
    "v2 = []\n",
    "for v in es.history['solution']:\n",
    "    v1.append(v[0])\n",
    "    v2.append(v[1])\n",
    "\n",
    "import numpy as np\n",
    "import matplotlib.pyplot as plt\n",
    "\n",
    "\n",
    "# the function that I'm going to plot\n",
    "def fitness(x, y):\n",
    "    # f: (1-(x**2+y**3)) * np.exp(-(x**2+y**2)/2)\n",
    "    return np.sqrt(x**2 + y**2)\n",
    " \n",
    "x = np.arange(-4.0, 4.0, 0.1)\n",
    "y = np.arange(-4.0, 4.0, 0.1)\n",
    "X,Y = np.meshgrid(x, y) # grid of point\n",
    "Z = fitness(X, Y) # evaluation of the function on the grid\n",
    "\n",
    "fig,ax = plt.subplots(dpi=100)\n",
    "cp = ax.contourf(X, Y, Z)\n",
    "fig.colorbar(cp)\n",
    "ax.scatter(v1, v2, c='r', edgecolor='black')\n",
    "\n",
    "# latex fashion title\n",
    "ax.set_title('$z=(1-x^2+y^3) e^{-(x^2+y^2)/2}$')\n",
    "plt.show()"
   ]
  },
  {
   "cell_type": "code",
   "execution_count": null,
   "metadata": {},
   "outputs": [],
   "source": []
  },
  {
   "cell_type": "code",
   "execution_count": null,
   "metadata": {},
   "outputs": [],
   "source": [
    "import numpy as np\n",
    "\n",
    "\n",
    "class EvolutionStrategy:\n",
    "    \"\"\" (mu+1)-ES\n",
    "    \"\"\"\n",
    "    def __init__(self, fitness, pop_size, n_vars, lower_bound, upper_bound):\n",
    "        self.fitness = fitness\n",
    "        self.pop_size = pop_size\n",
    "        self.n_vars = n_vars\n",
    "        self.lower_bound = lower_bound\n",
    "        self.upper_bound = upper_bound\n",
    "        \n",
    "    def optimize(self):\n",
    "        t = 100\n",
    "        x = np.random.randint(self.lower_bound, self.upper_bound, size=(self.pop_size, self.n_vars))\n",
    "        self.history = {'fitness': [], 'solution': []}\n",
    "        while t:\n",
    "#             x = x + np.random.normal(0, 1, size=(self.pop_size, self.n_vars))\n",
    "            x = np.clip(x, self.lower_bound, self.upper_bound)\n",
    "            \n",
    "            offspring = []\n",
    "            for i in range(x.shape[1]):\n",
    "                offspring.append(np.random.choice(x[:,i]))\n",
    "            \n",
    "            offspring = offspring + np.random.normal(0, 1, size=self.n_vars)\n",
    "            x = np.vstack([x, offspring])\n",
    "            \n",
    "            mask = np.array([self.fitness(*v) for v in x]).argsort()\n",
    "#             fitness = self.fitness(*x[mask[::-1]][0])\n",
    "            fitness = self.fitness(*x[mask][0])\n",
    "            print(fitness)\n",
    "\n",
    "                 \n",
    "#             if self.fitness(x) < self.fitness(o):\n",
    "#                 x = o\n",
    "#                 print(x, self.fitness(x))\n",
    "                \n",
    "            self.history['fitness'].append(fitness)\n",
    "#             self.history['solution'].append(list(x[mask[::-1]][0]))\n",
    "            self.history['solution'].append(list(x[mask][0]))\n",
    "#             x = x[mask[::-1]][:self.pop_size]\n",
    "            x = x[mask][:self.pop_size]\n",
    "            t -= 1\n",
    "        print('Done!')\n",
    "            \n",
    "            \n",
    "        "
   ]
  },
  {
   "cell_type": "code",
   "execution_count": null,
   "metadata": {},
   "outputs": [],
   "source": []
  },
  {
   "cell_type": "code",
   "execution_count": 639,
   "metadata": {},
   "outputs": [],
   "source": [
    "m = 20\n",
    "theta0_true = 2\n",
    "theta1_true = 0.5\n",
    "x = np.linspace(-1,1,m)\n",
    "y = theta0_true + theta1_true * x"
   ]
  },
  {
   "cell_type": "code",
   "execution_count": 640,
   "metadata": {},
   "outputs": [
    {
     "data": {
      "text/plain": [
       "array([-1.        , -0.89473684, -0.78947368, -0.68421053, -0.57894737,\n",
       "       -0.47368421, -0.36842105, -0.26315789, -0.15789474, -0.05263158,\n",
       "        0.05263158,  0.15789474,  0.26315789,  0.36842105,  0.47368421,\n",
       "        0.57894737,  0.68421053,  0.78947368,  0.89473684,  1.        ])"
      ]
     },
     "execution_count": 640,
     "metadata": {},
     "output_type": "execute_result"
    }
   ],
   "source": [
    "x"
   ]
  },
  {
   "cell_type": "code",
   "execution_count": 641,
   "metadata": {},
   "outputs": [
    {
     "data": {
      "text/plain": [
       "array([1.5       , 1.55263158, 1.60526316, 1.65789474, 1.71052632,\n",
       "       1.76315789, 1.81578947, 1.86842105, 1.92105263, 1.97368421,\n",
       "       2.02631579, 2.07894737, 2.13157895, 2.18421053, 2.23684211,\n",
       "       2.28947368, 2.34210526, 2.39473684, 2.44736842, 2.5       ])"
      ]
     },
     "execution_count": 641,
     "metadata": {},
     "output_type": "execute_result"
    }
   ],
   "source": [
    "y"
   ]
  },
  {
   "cell_type": "code",
   "execution_count": null,
   "metadata": {},
   "outputs": [],
   "source": [
    "def cost_func(theta0, theta1):\n",
    "    \"\"\"The cost function, J(theta0, theta1) describing the goodness of fit.\"\"\"\n",
    "    theta0 = np.atleast_3d(np.asarray(theta0))\n",
    "    theta1 = np.atleast_3d(np.asarray(theta1))\n",
    "    return np.average((y - hypothesis(x, theta0, theta1))**2, axis=2)/2"
   ]
  },
  {
   "cell_type": "code",
   "execution_count": 642,
   "metadata": {},
   "outputs": [],
   "source": [
    "def hypothesis(x, theta0, theta1):\n",
    "    \"\"\"Our \"hypothesis function\", a straight line.\"\"\"\n",
    "    return theta0 + theta1 * x"
   ]
  },
  {
   "cell_type": "code",
   "execution_count": 649,
   "metadata": {},
   "outputs": [],
   "source": [
    "    this_theta[0] = last_theta[0] - alpha / m * np.sum(\n",
    "                                    (hypothesis(x, *last_theta) - y))\n",
    "    this_theta[1] = last_theta[1] - alpha / m * np.sum(\n",
    "                                    (hypothesis(x, *last_theta) - y) * x)"
   ]
  },
  {
   "cell_type": "code",
   "execution_count": 650,
   "metadata": {},
   "outputs": [
    {
     "data": {
      "text/plain": [
       "array([1.9838    , 0.34835362])"
      ]
     },
     "execution_count": 650,
     "metadata": {},
     "output_type": "execute_result"
    }
   ],
   "source": [
    "this_theta"
   ]
  },
  {
   "cell_type": "code",
   "execution_count": 651,
   "metadata": {},
   "outputs": [
    {
     "data": {
      "text/plain": [
       "array([1.9838    , 0.34835362])"
      ]
     },
     "execution_count": 651,
     "metadata": {},
     "output_type": "execute_result"
    }
   ],
   "source": [
    "this_theta"
   ]
  },
  {
   "cell_type": "code",
   "execution_count": 648,
   "metadata": {},
   "outputs": [
    {
     "data": {
      "text/plain": [
       "array([[[3]]])"
      ]
     },
     "execution_count": 648,
     "metadata": {},
     "output_type": "execute_result"
    }
   ],
   "source": [
    "np.atleast_3d(np.asarray(3))"
   ]
  },
  {
   "cell_type": "code",
   "execution_count": null,
   "metadata": {},
   "outputs": [],
   "source": []
  },
  {
   "cell_type": "code",
   "execution_count": null,
   "metadata": {},
   "outputs": [],
   "source": []
  },
  {
   "cell_type": "code",
   "execution_count": null,
   "metadata": {},
   "outputs": [],
   "source": []
  },
  {
   "cell_type": "code",
   "execution_count": 624,
   "metadata": {},
   "outputs": [
    {
     "data": {
      "image/png": "[encoded data removed]",
      "text/plain": [
       "<Figure size 720x442.8 with 2 Axes>"
      ]
     },
     "metadata": {
      "needs_background": "light"
     },
     "output_type": "display_data"
    }
   ],
   "source": [
    "import numpy as np\n",
    "import matplotlib.pyplot as plt\n",
    "\n",
    "# The data to fit\n",
    "m = 20\n",
    "theta0_true = 2\n",
    "theta1_true = 0.5\n",
    "x = np.linspace(-1,1,m)\n",
    "y = theta0_true + theta1_true * x\n",
    "\n",
    "# The plot: LHS is the data, RHS will be the cost function.\n",
    "fig, ax = plt.subplots(nrows=1, ncols=2, figsize=(10,6.15))\n",
    "ax[0].scatter(x, y, marker='x', s=40, color='k')\n",
    "\n",
    "def cost_func(theta0, theta1):\n",
    "    \"\"\"The cost function, J(theta0, theta1) describing the goodness of fit.\"\"\"\n",
    "    theta0 = np.atleast_3d(np.asarray(theta0))\n",
    "    theta1 = np.atleast_3d(np.asarray(theta1))\n",
    "    return np.average((y - hypothesis(x, theta0, theta1))**2, axis=2)/2\n",
    "\n",
    "def hypothesis(x, theta0, theta1):\n",
    "    \"\"\"Our \"hypothesis function\", a straight line.\"\"\"\n",
    "    return theta0 + theta1 * x\n",
    "\n",
    "# First construct a grid of (theta0, theta1) parameter pairs and their\n",
    "# corresponding cost function values.\n",
    "theta0_grid = np.linspace(-1,4,101)\n",
    "theta1_grid = np.linspace(-5,5,101)\n",
    "J_grid = cost_func(theta0_grid[np.newaxis,:,np.newaxis],\n",
    "                   theta1_grid[:,np.newaxis,np.newaxis])\n",
    "\n",
    "# A labeled contour plot for the RHS cost function\n",
    "X, Y = np.meshgrid(theta0_grid, theta1_grid)\n",
    "contours = ax[1].contour(X, Y, J_grid, 30)\n",
    "ax[1].clabel(contours)\n",
    "# The target parameter values indicated on the cost function contour plot\n",
    "ax[1].scatter([theta0_true]*2,[theta1_true]*2,s=[50,10], color=['k','w'])\n",
    "\n",
    "# Take N steps with learning rate alpha down the steepest gradient,\n",
    "# starting at (theta0, theta1) = (0, 0).\n",
    "N = 5\n",
    "alpha = 0.7\n",
    "theta = [np.array((0,0))]\n",
    "J = [cost_func(*theta[0])[0]]\n",
    "for j in range(N-1):\n",
    "    last_theta = theta[-1]\n",
    "    this_theta = np.empty((2,))\n",
    "    this_theta[0] = last_theta[0] - alpha / m * np.sum(\n",
    "                                    (hypothesis(x, *last_theta) - y))\n",
    "    this_theta[1] = last_theta[1] - alpha / m * np.sum(\n",
    "                                    (hypothesis(x, *last_theta) - y) * x)\n",
    "    theta.append(this_theta)\n",
    "    J.append(cost_func(*this_theta))\n",
    "\n",
    "\n",
    "# Annotate the cost function plot with coloured points indicating the\n",
    "# parameters chosen and red arrows indicating the steps down the gradient.\n",
    "# Also plot the fit function on the LHS data plot in a matching colour.\n",
    "colors = ['b', 'g', 'm', 'c', 'orange']\n",
    "ax[0].plot(x, hypothesis(x, *theta[0]), color=colors[0], lw=2,\n",
    "           label=r'$\\theta_0 = {:.3f}, \\theta_1 = {:.3f}$'.format(*theta[0]))\n",
    "for j in range(1,N):\n",
    "    ax[1].annotate('', xy=theta[j], xytext=theta[j-1],\n",
    "                   arrowprops={'arrowstyle': '->', 'color': 'r', 'lw': 1},\n",
    "                   va='center', ha='center')\n",
    "    ax[0].plot(x, hypothesis(x, *theta[j]), color=colors[j], lw=2,\n",
    "           label=r'$\\theta_0 = {:.3f}, \\theta_1 = {:.3f}$'.format(*theta[j]))\n",
    "ax[1].scatter(*zip(*theta), c=colors, s=40, lw=0)\n",
    "\n",
    "# Labels, titles and a legend.\n",
    "ax[1].set_xlabel(r'$\\theta_0$')\n",
    "ax[1].set_ylabel(r'$\\theta_1$')\n",
    "ax[1].set_title('Cost function')\n",
    "ax[0].set_xlabel(r'$x$')\n",
    "ax[0].set_ylabel(r'$y$')\n",
    "ax[0].set_title('Data and fit')\n",
    "axbox = ax[0].get_position()\n",
    "# Position the legend by hand so that it doesn't cover up any of the lines.\n",
    "ax[0].legend(loc=(axbox.x0+0.5*axbox.width, axbox.y0+0.1*axbox.height),\n",
    "             fontsize='small')\n",
    "\n",
    "plt.show()"
   ]
  },
  {
   "cell_type": "code",
   "execution_count": 656,
   "metadata": {},
   "outputs": [],
   "source": [
    "import pandas as pd\n",
    " \n",
    "    \n",
    "y = np.random.randint(0, 10, size=10)\n",
    "X = np.column_stack((np.random.randint(0, 10, size=10), np.random.randint(0, 10, size=10)))\n",
    " \n",
    "from sklearn.preprocessing import StandardScaler\n",
    " \n",
    "scaler = StandardScaler()\n",
    "X_scaled = scaler.fit_transform(X)"
   ]
  },
  {
   "cell_type": "code",
   "execution_count": 666,
   "metadata": {},
   "outputs": [
    {
     "data": {
      "text/plain": [
       "array([-160, -280, -120,  -80, -440, -120, -480, -480, -320, -440])"
      ]
     },
     "execution_count": 666,
     "metadata": {},
     "output_type": "execute_result"
    }
   ],
   "source": [
    "X.dot(w).flatten()"
   ]
  },
  {
   "cell_type": "code",
   "execution_count": null,
   "metadata": {},
   "outputs": [],
   "source": []
  },
  {
   "cell_type": "code",
   "execution_count": 662,
   "metadata": {},
   "outputs": [
    {
     "data": {
      "text/plain": [
       "array([-40, -40])"
      ]
     },
     "execution_count": 662,
     "metadata": {},
     "output_type": "execute_result"
    }
   ],
   "source": []
  },
  {
   "cell_type": "code",
   "execution_count": 657,
   "metadata": {},
   "outputs": [],
   "source": [
    "def gradient_descent(W, x, y):\n",
    "    y_hat = x.dot(W).flatten()\n",
    "    error = (y - y_hat)\n",
    "    mse = (1.0 / len(x)) * np.sum(np.square(error))\n",
    "    gradient = -(1.0 / len(x)) * error.dot(x)\n",
    "    return gradient, mse"
   ]
  },
  {
   "cell_type": "code",
   "execution_count": 661,
   "metadata": {},
   "outputs": [],
   "source": [
    "w = np.array((-40, -40))\n",
    "alpha = .1\n",
    "tolerance = 1e-3\n",
    " \n",
    "old_w = []\n",
    "errors = []"
   ]
  },
  {
   "cell_type": "code",
   "execution_count": 659,
   "metadata": {},
   "outputs": [
    {
     "name": "stdout",
     "output_type": "stream",
     "text": [
      "Iteration: 10 - Error: 389.9537\n",
      "Iteration: 20 - Error: 48.9913\n",
      "Iteration: 30 - Error: 25.2081\n",
      "Iteration: 40 - Error: 23.5435\n",
      "Iteration: 50 - Error: 23.4259\n",
      "Iteration: 60 - Error: 23.4173\n",
      "Iteration: 70 - Error: 23.4166\n",
      "Gradient Descent has converged\n",
      "w = [-0.81155275  1.17504986]\n"
     ]
    }
   ],
   "source": [
    "iterations = 1\n",
    "for i in range(200):\n",
    "    gradient, error = gradient_descent(w, X_scaled, y)\n",
    "    new_w = w - alpha * gradient\n",
    " \n",
    "    # Print error every 10 iterations\n",
    "    if iterations % 10 == 0:\n",
    "        print(\"Iteration: %d - Error: %.4f\" % (iterations, error))\n",
    "        old_w.append(new_w)\n",
    "        errors.append(error)\n",
    " \n",
    "    # Stopping Condition\n",
    "    if np.sum(abs(new_w - w)) < tolerance:\n",
    "        print('Gradient Descent has converged')\n",
    "        break\n",
    " \n",
    "    iterations += 1\n",
    "    w = new_w\n",
    " \n",
    "print('w =', w)"
   ]
  },
  {
   "cell_type": "code",
   "execution_count": null,
   "metadata": {},
   "outputs": [],
   "source": []
  },
  {
   "cell_type": "code",
   "execution_count": null,
   "metadata": {},
   "outputs": [],
   "source": []
  },
  {
   "cell_type": "code",
   "execution_count": null,
   "metadata": {},
   "outputs": [],
   "source": []
  },
  {
   "cell_type": "code",
   "execution_count": null,
   "metadata": {},
   "outputs": [],
   "source": []
  },
  {
   "cell_type": "code",
   "execution_count": null,
   "metadata": {},
   "outputs": [],
   "source": []
  },
  {
   "cell_type": "code",
   "execution_count": null,
   "metadata": {},
   "outputs": [],
   "source": []
  },
  {
   "cell_type": "code",
   "execution_count": 573,
   "metadata": {},
   "outputs": [
    {
     "data": {
      "text/plain": [
       "(10, 2)"
      ]
     },
     "execution_count": 573,
     "metadata": {},
     "output_type": "execute_result"
    }
   ],
   "source": [
    "pop.shape"
   ]
  },
  {
   "cell_type": "code",
   "execution_count": 568,
   "metadata": {},
   "outputs": [
    {
     "data": {
      "text/plain": [
       "array([[ 0, -3],\n",
       "       [ 0, -2],\n",
       "       [ 0,  1],\n",
       "       [-2, -3],\n",
       "       [-2,  1],\n",
       "       [ 1, -2],\n",
       "       [ 0,  0],\n",
       "       [ 1,  1],\n",
       "       [ 0, -2],\n",
       "       [ 0, -2]])"
      ]
     },
     "execution_count": 568,
     "metadata": {},
     "output_type": "execute_result"
    }
   ],
   "source": [
    "pop = np.random.randint(-3,3,size=(10,2))\n",
    "pop"
   ]
  },
  {
   "cell_type": "code",
   "execution_count": 577,
   "metadata": {},
   "outputs": [],
   "source": [
    "test = []\n",
    "for i in range(pop.shape[1]):\n",
    "    test.append(np.random.choice(pop[:,i]))\n",
    "            "
   ]
  },
  {
   "cell_type": "code",
   "execution_count": 578,
   "metadata": {},
   "outputs": [
    {
     "data": {
      "text/plain": [
       "[-3.6624240289498315, 1.9087992183116802]"
      ]
     },
     "execution_count": 578,
     "metadata": {},
     "output_type": "execute_result"
    }
   ],
   "source": [
    "test"
   ]
  },
  {
   "cell_type": "code",
   "execution_count": 589,
   "metadata": {},
   "outputs": [
    {
     "data": {
      "text/plain": [
       "array([[-1.01939708, -2.35636414],\n",
       "       [-0.0441626 , -1.67571811],\n",
       "       [ 0.22238636, -1.0852894 ],\n",
       "       [-0.9069993 , -2.43479486],\n",
       "       [-3.66242403,  3.4123446 ],\n",
       "       [ 0.95996831, -3.38979116],\n",
       "       [-1.01754202,  0.39616342],\n",
       "       [-0.04980845,  1.90879922],\n",
       "       [-0.35186413, -1.09035023],\n",
       "       [ 0.49990608, -1.37703789]])"
      ]
     },
     "execution_count": 589,
     "metadata": {},
     "output_type": "execute_result"
    }
   ],
   "source": [
    "pop"
   ]
  },
  {
   "cell_type": "code",
   "execution_count": 588,
   "metadata": {},
   "outputs": [
    {
     "data": {
      "text/plain": [
       "array([[-1.01939708, -2.35636414],\n",
       "       [-0.0441626 , -1.67571811],\n",
       "       [ 0.22238636, -1.0852894 ],\n",
       "       [-0.9069993 , -2.43479486],\n",
       "       [-3.66242403,  3.4123446 ],\n",
       "       [ 0.95996831, -3.38979116],\n",
       "       [-1.01754202,  0.39616342],\n",
       "       [-0.04980845,  1.90879922],\n",
       "       [-0.35186413, -1.09035023],\n",
       "       [ 0.49990608, -1.37703789],\n",
       "       [-3.66242403,  1.90879922]])"
      ]
     },
     "execution_count": 588,
     "metadata": {},
     "output_type": "execute_result"
    }
   ],
   "source": [
    "np.vstack([pop,test])"
   ]
  },
  {
   "cell_type": "code",
   "execution_count": null,
   "metadata": {},
   "outputs": [],
   "source": []
  },
  {
   "cell_type": "code",
   "execution_count": null,
   "metadata": {},
   "outputs": [],
   "source": []
  },
  {
   "cell_type": "code",
   "execution_count": 571,
   "metadata": {},
   "outputs": [],
   "source": [
    "sigma = np.random.randint(0,3, size=(10,2))"
   ]
  },
  {
   "cell_type": "code",
   "execution_count": 569,
   "metadata": {},
   "outputs": [
    {
     "data": {
      "text/plain": [
       "array([[-1.01939708, -2.35636414],\n",
       "       [-0.0441626 , -1.67571811],\n",
       "       [ 0.22238636, -1.0852894 ],\n",
       "       [-0.9069993 , -2.43479486],\n",
       "       [-3.66242403,  3.4123446 ],\n",
       "       [ 0.95996831, -3.38979116],\n",
       "       [-1.01754202,  0.39616342],\n",
       "       [-0.04980845,  1.90879922],\n",
       "       [-0.35186413, -1.09035023],\n",
       "       [ 0.49990608, -1.37703789]])"
      ]
     },
     "execution_count": 569,
     "metadata": {},
     "output_type": "execute_result"
    }
   ],
   "source": [
    "pop = pop + np.random.normal(0, 1, size=(10, 2))\n",
    "pop"
   ]
  },
  {
   "cell_type": "code",
   "execution_count": 572,
   "metadata": {},
   "outputs": [
    {
     "data": {
      "text/plain": [
       "array([[ 0.2191303 , -4.48001732],\n",
       "       [ 0.16869018,  0.        ],\n",
       "       [ 0.82451629,  0.        ],\n",
       "       [ 0.        ,  2.49622693],\n",
       "       [ 0.        ,  0.        ],\n",
       "       [ 0.        , -0.32678977],\n",
       "       [ 0.        ,  0.        ],\n",
       "       [ 2.47765911,  0.32714191],\n",
       "       [ 0.11611875,  1.33857513],\n",
       "       [ 0.        ,  0.        ]])"
      ]
     },
     "execution_count": 572,
     "metadata": {},
     "output_type": "execute_result"
    }
   ],
   "source": [
    "np.random.normal(0, sigma, size=(10, 2))"
   ]
  },
  {
   "cell_type": "code",
   "execution_count": null,
   "metadata": {},
   "outputs": [],
   "source": []
  },
  {
   "cell_type": "code",
   "execution_count": null,
   "metadata": {},
   "outputs": [],
   "source": []
  },
  {
   "cell_type": "code",
   "execution_count": 531,
   "metadata": {},
   "outputs": [],
   "source": [
    "mask = np.random.randint(0,2, size=10, dtype=bool)"
   ]
  },
  {
   "cell_type": "code",
   "execution_count": 535,
   "metadata": {},
   "outputs": [
    {
     "data": {
      "text/plain": [
       "(-2.2699496448474914, -0.2804981495300505)"
      ]
     },
     "execution_count": 535,
     "metadata": {},
     "output_type": "execute_result"
    }
   ],
   "source": [
    "np.random.choice(pop[:,0]), np.random.choice(pop[:,1])"
   ]
  },
  {
   "cell_type": "code",
   "execution_count": 541,
   "metadata": {},
   "outputs": [],
   "source": [
    "vf = np.vectorize(fitness)"
   ]
  },
  {
   "cell_type": "code",
   "execution_count": 558,
   "metadata": {},
   "outputs": [
    {
     "data": {
      "text/plain": [
       "array([3, 4, 7, 2, 9, 1, 6, 5, 0, 8])"
      ]
     },
     "execution_count": 558,
     "metadata": {},
     "output_type": "execute_result"
    }
   ],
   "source": [
    "mas = np.array([fitness(*p) for p in pop]).argsort()\n",
    "mas"
   ]
  },
  {
   "cell_type": "code",
   "execution_count": 564,
   "metadata": {},
   "outputs": [
    {
     "data": {
      "text/plain": [
       "array([[-0.57693501, -1.03495146],\n",
       "       [ 0.80234593, -1.83442281],\n",
       "       [-0.64025835, -0.1336072 ],\n",
       "       [ 0.5720682 , -3.17631662],\n",
       "       [-2.26994964, -2.61689041],\n",
       "       [-3.03478647,  2.22758239],\n",
       "       [ 3.1556749 , -0.27126188],\n",
       "       [-1.82518122, -0.28049815],\n",
       "       [-1.79817477,  0.18232097],\n",
       "       [-1.41191757,  1.89766274]])"
      ]
     },
     "execution_count": 564,
     "metadata": {},
     "output_type": "execute_result"
    }
   ],
   "source": [
    "pop[mas[::-1]][:10]"
   ]
  },
  {
   "cell_type": "code",
   "execution_count": null,
   "metadata": {},
   "outputs": [],
   "source": [
    ".argsort()"
   ]
  },
  {
   "cell_type": "code",
   "execution_count": 567,
   "metadata": {},
   "outputs": [
    {
     "data": {
      "text/plain": [
       "array([[ 0.80234593, -1.        ],\n",
       "       [-1.        , -1.        ],\n",
       "       [ 1.        , -0.27126188],\n",
       "       [-1.        ,  1.        ],\n",
       "       [-1.        ,  0.18232097],\n",
       "       [-0.64025835, -0.1336072 ],\n",
       "       [ 0.5720682 , -1.        ],\n",
       "       [-1.        , -0.28049815],\n",
       "       [-0.57693501, -1.        ],\n",
       "       [-1.        ,  1.        ]])"
      ]
     },
     "execution_count": 567,
     "metadata": {},
     "output_type": "execute_result"
    }
   ],
   "source": [
    "np.clip(pop, -1, 1)"
   ]
  },
  {
   "cell_type": "code",
   "execution_count": null,
   "metadata": {},
   "outputs": [],
   "source": []
  },
  {
   "cell_type": "code",
   "execution_count": null,
   "metadata": {},
   "outputs": [],
   "source": [
    "import numpy as np\n",
    "\n",
    "\n",
    "class EvolutionStrategy:\n",
    "    \"\"\" (mu+1)-ES\n",
    "    \"\"\"\n",
    "    def __init__(self, pop_size, sigma, lower_bound, upper_bound):\n",
    "        self.pop_size = pop_size\n",
    "        self.sigma = sigma\n",
    "        self.lower_bound = lower_bound\n",
    "        self.upper_bound = upper_bound\n",
    "    \n",
    "    def _check_range(self, x):\n",
    "        if self.lower_bound <= x <= self.upper_bound:\n",
    "            return x\n",
    "        else:\n",
    "            return (self.upper_bound-self.lower_bound) / 2\n",
    "    \n",
    "    def _fitness(self, x):\n",
    "        return np.sin(10*x)*x + np.cos(2*x)*x \n",
    "#         return x * np.sin(x) * np.cos(x)\n",
    "    \n",
    "    def optimize(self):\n",
    "        t = 1000\n",
    "        x = np.random.randint(self.lower_bound, self.upper_bound, self.pop_size)\n",
    "        self.history = {'fitness': [], 'solution': []}\n",
    "        while t:\n",
    "            o = x + np.random.normal(0, 1)\n",
    "#             o = np.clip(o, self.lower_bound, self.upper_bound)\n",
    "            o = self._check_range(o)\n",
    "            if self._fitness(x) < self._fitness(o):\n",
    "                x = o\n",
    "                \n",
    "            self.history['fitness'].append(self._fitness(x))\n",
    "            self.history['solution'].append(x)\n",
    "            t -= 1\n",
    "        print('Done!')\n",
    "            \n",
    "            \n",
    "        "
   ]
  },
  {
   "cell_type": "code",
   "execution_count": null,
   "metadata": {},
   "outputs": [],
   "source": []
  },
  {
   "cell_type": "code",
   "execution_count": 324,
   "metadata": {},
   "outputs": [],
   "source": [
    "def fitness(x, y):\n",
    "    return 21.5 + x * np.sin(4*np.pi*x) + y + np.sin(20*np.pi*y)"
   ]
  },
  {
   "cell_type": "code",
   "execution_count": 325,
   "metadata": {},
   "outputs": [
    {
     "data": {
      "text/plain": [
       "22.499999999999996"
      ]
     },
     "execution_count": 325,
     "metadata": {},
     "output_type": "execute_result"
    }
   ],
   "source": [
    "fitness(1,1)"
   ]
  },
  {
   "cell_type": "code",
   "execution_count": 363,
   "metadata": {},
   "outputs": [
    {
     "data": {
      "image/png": "[encoded data removed]",
      "text/plain": [
       "<Figure size 432x288 with 2 Axes>"
      ]
     },
     "metadata": {
      "needs_background": "light"
     },
     "output_type": "display_data"
    }
   ],
   "source": [
    "import numpy as np\n",
    "import matplotlib.pyplot as plt\n",
    "\n",
    "\n",
    "# the function that I'm going to plot\n",
    "def fitness(x, y):\n",
    "    return np.sqrt(x**2 + y**2)\n",
    " \n",
    "x = np.arange(-3.0, 5, 0.1)\n",
    "y = np.arange(-3.0, 5, 0.1)\n",
    "X,Y = np.meshgrid(x, y) # grid of point\n",
    "Z = fitness(X, Y) # evaluation of the function on the grid\n",
    "\n",
    "fig,ax=plt.subplots(1,1)\n",
    "cp = ax.contourf(X, Y, Z)\n",
    "fig.colorbar(cp)\n",
    "\n",
    "# latex fashion title\n",
    "title('$z=(1-x^2+y^3) e^{-(x^2+y^2)/2}$')\n",
    "plt.show()"
   ]
  },
  {
   "cell_type": "code",
   "execution_count": null,
   "metadata": {},
   "outputs": [],
   "source": []
  },
  {
   "cell_type": "code",
   "execution_count": null,
   "metadata": {},
   "outputs": [],
   "source": []
  },
  {
   "cell_type": "code",
   "execution_count": null,
   "metadata": {},
   "outputs": [],
   "source": []
  },
  {
   "cell_type": "code",
   "execution_count": null,
   "metadata": {},
   "outputs": [],
   "source": [
    "    # find non-zero fitness for selection\n",
    "    def get_fitness(pred): \n",
    "        return pred.flatten()\n",
    "    \n",
    "    \n",
    "    def make_kid(self, pop, n_kid):\n",
    "        # generate empty kid holder\n",
    "        kids = {'DNA': np.empty((n_kid, DNA_SIZE))}\n",
    "        kids['mut_strength'] = np.empty_like(kids['DNA'])\n",
    "        for kv, ks in zip(kids['DNA'], kids['mut_strength']):\n",
    "            # crossover (roughly half p1 and half p2)\n",
    "            p1, p2 = np.random.choice(np.arange(POP_SIZE), size=2, replace=False)\n",
    "            cp = np.random.randint(0, 2, DNA_SIZE, dtype=np.bool)  # crossover points\n",
    "            kv[cp] = pop['DNA'][p1, cp]\n",
    "            kv[~cp] = pop['DNA'][p2, ~cp]\n",
    "            ks[cp] = pop['mut_strength'][p1, cp]\n",
    "            ks[~cp] = pop['mut_strength'][p2, ~cp]\n",
    "\n",
    "            # mutate (change DNA based on normal distribution)\n",
    "            ks[:] = np.maximum(ks + (np.random.rand(*ks.shape)-0.5), 0.)    # must > 0\n",
    "            kv += ks * np.random.randn(*kv.shape)\n",
    "            kv[:] = np.clip(kv, *DNA_BOUND)    # clip the mutated value\n",
    "        return kids\n",
    "    \n",
    "    def kill_bad(pop, kids):\n",
    "        # put pop and kids together\n",
    "        for key in ['DNA', 'mut_strength']:\n",
    "            pop[key] = np.vstack((pop[key], kids[key]))\n",
    "\n",
    "        fitness = get_fitness(F(pop['DNA']))            # calculate global fitness\n",
    "        idx = np.arange(pop['DNA'].shape[0])\n",
    "        good_idx = idx[fitness.argsort()][-POP_SIZE:]   # selected by fitness ranking (not value)\n",
    "        for key in ['DNA', 'mut_strength']:\n",
    "            pop[key] = pop[key][good_idx]\n",
    "        return pop\n",
    "\n",
    "pop = dict(DNA=5 * np.random.rand(1, DNA_SIZE).repeat(POP_SIZE, axis=0),   # initialize the pop DNA values\n",
    "           mut_strength=np.random.rand(POP_SIZE, DNA_SIZE))                # initialize the pop mutation strength values\n",
    "\n",
    "from IPython.display import HTML\n",
    "from matplotlib import animation, rc\n",
    "\n",
    "\n",
    "\n",
    "def animate(i):\n",
    "    x = np.linspace(0, 2, 1000)\n",
    "    y = np.sin(2 * np.pi * (x - 0.01 * i))\n",
    "    line.set_data(x, y)\n",
    "    return (line,)\n",
    "\n",
    "ax.scatter(pop['DNA'], F(pop['DNA']), s=200, lw=0, c='red', alpha=0.5)\n",
    "\n",
    "fig, ax = plt.subplots()\n",
    "\n",
    "x = np.linspace(*DNA_BOUND, 200)\n",
    "\n",
    "line, = ax.plot(x, F(x))\n",
    "scatt, = ax.scatter([], [])"
   ]
  },
  {
   "cell_type": "code",
   "execution_count": null,
   "metadata": {},
   "outputs": [],
   "source": [
    "anim = animation.FuncAnimation(fig, animate, init_func=init,\n",
    "                               frames=100, interval=20, blit=True)\n",
    "\n",
    "\n",
    "HTML(anim.to_html5_video())\n",
    "\n",
    "for _ in range(N_GENERATIONS):\n",
    "    # something about plotting\n",
    "    if 'sca' in globals(): \n",
    "        sca.remove()\n",
    "    sca = ax.scatter(pop['DNA'], F(pop['DNA']), s=200, lw=0, c='red', alpha=0.5); plt.pause(0.05)\n",
    "\n",
    "    # ES part\n",
    "    kids = make_kid(pop, N_KID)\n",
    "    pop = kill_bad(pop, kids)   # keep some good parent for elitism\n",
    "\n",
    "plt.ioff()\n",
    "plt.show()"
   ]
  },
  {
   "cell_type": "code",
   "execution_count": null,
   "metadata": {},
   "outputs": [],
   "source": []
  },
  {
   "cell_type": "code",
   "execution_count": null,
   "metadata": {},
   "outputs": [],
   "source": []
  },
  {
   "cell_type": "code",
   "execution_count": null,
   "metadata": {},
   "outputs": [],
   "source": [
    "import matplotlib.pyplot as plt"
   ]
  },
  {
   "cell_type": "code",
   "execution_count": null,
   "metadata": {},
   "outputs": [],
   "source": [
    "\n",
    "DNA_SIZE = 1             # DNA (real number)\n",
    "DNA_BOUND = [0, 5]       # solution upper and lower bounds\n",
    "N_GENERATIONS = 200\n",
    "POP_SIZE = 100           # population size\n",
    "N_KID = 50               # n kids per generation\n"
   ]
  },
  {
   "cell_type": "code",
   "execution_count": 1,
   "metadata": {},
   "outputs": [
    {
     "name": "stderr",
     "output_type": "stream",
     "text": [
      "Traceback (most recent call last):\n",
      "  File \"C:\\Users\\unerue\\Anaconda3\\lib\\site-packages\\matplotlib\\cbook\\__init__.py\", line 216, in process\n",
      "    func(*args, **kwargs)\n",
      "  File \"C:\\Users\\unerue\\Anaconda3\\lib\\site-packages\\matplotlib\\animation.py\", line 953, in _start\n",
      "    self._init_draw()\n",
      "  File \"C:\\Users\\unerue\\Anaconda3\\lib\\site-packages\\matplotlib\\animation.py\", line 1735, in _init_draw\n",
      "    self._drawn_artists = self._init_func()\n",
      "  File \"<ipython-input-1-0a1e881ccffe>\", line 72, in init\n",
      "    scatt.set_data([], [])\n",
      "AttributeError: 'PathCollection' object has no attribute 'set_data'\n"
     ]
    },
    {
     "ename": "RuntimeError",
     "evalue": "Requested MovieWriter (ffmpeg) not available",
     "output_type": "error",
     "traceback": [
      "\u001b[1;31m---------------------------------------------------------------------------\u001b[0m",
      "\u001b[1;31mKeyError\u001b[0m                                  Traceback (most recent call last)",
      "\u001b[1;32m~\\Anaconda3\\lib\\site-packages\\matplotlib\\animation.py\u001b[0m in \u001b[0;36m__getitem__\u001b[1;34m(self, name)\u001b[0m\n\u001b[0;32m    160\u001b[0m         \u001b[1;32mtry\u001b[0m\u001b[1;33m:\u001b[0m\u001b[1;33m\u001b[0m\u001b[1;33m\u001b[0m\u001b[0m\n\u001b[1;32m--> 161\u001b[1;33m             \u001b[1;32mreturn\u001b[0m \u001b[0mself\u001b[0m\u001b[1;33m.\u001b[0m\u001b[0mavail\u001b[0m\u001b[1;33m[\u001b[0m\u001b[0mname\u001b[0m\u001b[1;33m]\u001b[0m\u001b[1;33m\u001b[0m\u001b[1;33m\u001b[0m\u001b[0m\n\u001b[0m\u001b[0;32m    162\u001b[0m         \u001b[1;32mexcept\u001b[0m \u001b[0mKeyError\u001b[0m\u001b[1;33m:\u001b[0m\u001b[1;33m\u001b[0m\u001b[1;33m\u001b[0m\u001b[0m\n",
      "\u001b[1;31mKeyError\u001b[0m: 'ffmpeg'",
      "\nDuring handling of the above exception, another exception occurred:\n",
      "\u001b[1;31mRuntimeError\u001b[0m                              Traceback (most recent call last)",
      "\u001b[1;32m<ipython-input-1-0a1e881ccffe>\u001b[0m in \u001b[0;36m<module>\u001b[1;34m\u001b[0m\n\u001b[0;32m     84\u001b[0m \u001b[1;33m\u001b[0m\u001b[0m\n\u001b[0;32m     85\u001b[0m \u001b[1;31m# anim.save('the_movie.mp4', writer = 'mencoder', fps=15)\u001b[0m\u001b[1;33m\u001b[0m\u001b[1;33m\u001b[0m\u001b[1;33m\u001b[0m\u001b[0m\n\u001b[1;32m---> 86\u001b[1;33m \u001b[0mHTML\u001b[0m\u001b[1;33m(\u001b[0m\u001b[0manim\u001b[0m\u001b[1;33m.\u001b[0m\u001b[0mto_html5_video\u001b[0m\u001b[1;33m(\u001b[0m\u001b[1;33m)\u001b[0m\u001b[1;33m)\u001b[0m\u001b[1;33m\u001b[0m\u001b[1;33m\u001b[0m\u001b[0m\n\u001b[0m",
      "\u001b[1;32m~\\Anaconda3\\lib\\site-packages\\matplotlib\\animation.py\u001b[0m in \u001b[0;36mto_html5_video\u001b[1;34m(self, embed_limit)\u001b[0m\n\u001b[0;32m   1324\u001b[0m                 \u001b[1;31m# We create a writer manually so that we can get the\u001b[0m\u001b[1;33m\u001b[0m\u001b[1;33m\u001b[0m\u001b[1;33m\u001b[0m\u001b[0m\n\u001b[0;32m   1325\u001b[0m                 \u001b[1;31m# appropriate size for the tag\u001b[0m\u001b[1;33m\u001b[0m\u001b[1;33m\u001b[0m\u001b[1;33m\u001b[0m\u001b[0m\n\u001b[1;32m-> 1326\u001b[1;33m                 \u001b[0mWriter\u001b[0m \u001b[1;33m=\u001b[0m \u001b[0mwriters\u001b[0m\u001b[1;33m[\u001b[0m\u001b[0mrcParams\u001b[0m\u001b[1;33m[\u001b[0m\u001b[1;34m'animation.writer'\u001b[0m\u001b[1;33m]\u001b[0m\u001b[1;33m]\u001b[0m\u001b[1;33m\u001b[0m\u001b[1;33m\u001b[0m\u001b[0m\n\u001b[0m\u001b[0;32m   1327\u001b[0m                 writer = Writer(codec='h264',\n\u001b[0;32m   1328\u001b[0m                                 \u001b[0mbitrate\u001b[0m\u001b[1;33m=\u001b[0m\u001b[0mrcParams\u001b[0m\u001b[1;33m[\u001b[0m\u001b[1;34m'animation.bitrate'\u001b[0m\u001b[1;33m]\u001b[0m\u001b[1;33m,\u001b[0m\u001b[1;33m\u001b[0m\u001b[1;33m\u001b[0m\u001b[0m\n",
      "\u001b[1;32m~\\Anaconda3\\lib\\site-packages\\matplotlib\\animation.py\u001b[0m in \u001b[0;36m__getitem__\u001b[1;34m(self, name)\u001b[0m\n\u001b[0;32m    162\u001b[0m         \u001b[1;32mexcept\u001b[0m \u001b[0mKeyError\u001b[0m\u001b[1;33m:\u001b[0m\u001b[1;33m\u001b[0m\u001b[1;33m\u001b[0m\u001b[0m\n\u001b[0;32m    163\u001b[0m             raise RuntimeError(\n\u001b[1;32m--> 164\u001b[1;33m                 'Requested MovieWriter ({}) not available'.format(name))\n\u001b[0m\u001b[0;32m    165\u001b[0m \u001b[1;33m\u001b[0m\u001b[0m\n\u001b[0;32m    166\u001b[0m \u001b[1;33m\u001b[0m\u001b[0m\n",
      "\u001b[1;31mRuntimeError\u001b[0m: Requested MovieWriter (ffmpeg) not available"
     ]
    },
    {
     "data": {
      "image/png": "[encoded data removed]",
      "text/plain": [
       "<Figure size 432x288 with 1 Axes>"
      ]
     },
     "metadata": {
      "needs_background": "light"
     },
     "output_type": "display_data"
    }
   ],
   "source": [
    "import numpy as np\n",
    "import matplotlib.pyplot as plt\n",
    "\n",
    "%matplotlib inline\n",
    "\n",
    "DNA_SIZE = 1             # DNA (real number)\n",
    "DNA_BOUND = [0, 5]       # solution upper and lower bounds\n",
    "N_GENERATIONS = 200\n",
    "POP_SIZE = 100           # population size\n",
    "N_KID = 50               # n kids per generation\n",
    "\n",
    "\n",
    "def F(x): return np.sin(10*x)*x + np.cos(2*x)*x     # to find the maximum of this function\n",
    "\n",
    "\n",
    "# find non-zero fitness for selection\n",
    "def get_fitness(pred): return pred.flatten()\n",
    "\n",
    "\n",
    "def make_kid(pop, n_kid):\n",
    "    # generate empty kid holder\n",
    "    kids = {'DNA': np.empty((n_kid, DNA_SIZE))}\n",
    "    kids['mut_strength'] = np.empty_like(kids['DNA'])\n",
    "    for kv, ks in zip(kids['DNA'], kids['mut_strength']):\n",
    "        # crossover (roughly half p1 and half p2)\n",
    "        p1, p2 = np.random.choice(np.arange(POP_SIZE), size=2, replace=False)\n",
    "        cp = np.random.randint(0, 2, DNA_SIZE, dtype=np.bool)  # crossover points\n",
    "        kv[cp] = pop['DNA'][p1, cp]\n",
    "        kv[~cp] = pop['DNA'][p2, ~cp]\n",
    "        ks[cp] = pop['mut_strength'][p1, cp]\n",
    "        ks[~cp] = pop['mut_strength'][p2, ~cp]\n",
    "\n",
    "        # mutate (change DNA based on normal distribution)\n",
    "        ks[:] = np.maximum(ks + (np.random.rand(*ks.shape)-0.5), 0.)    # must > 0\n",
    "        kv += ks * np.random.randn(*kv.shape)\n",
    "        kv[:] = np.clip(kv, *DNA_BOUND)    # clip the mutated value\n",
    "    return kids\n",
    "\n",
    "\n",
    "def kill_bad(pop, kids):\n",
    "    # put pop and kids together\n",
    "    for key in ['DNA', 'mut_strength']:\n",
    "        pop[key] = np.vstack((pop[key], kids[key]))\n",
    "\n",
    "    fitness = get_fitness(F(pop['DNA']))            # calculate global fitness\n",
    "    idx = np.arange(pop['DNA'].shape[0])\n",
    "    good_idx = idx[fitness.argsort()][-POP_SIZE:]   # selected by fitness ranking (not value)\n",
    "    for key in ['DNA', 'mut_strength']:\n",
    "        pop[key] = pop[key][good_idx]\n",
    "    return pop\n",
    "\n",
    "\n",
    "pop = dict(DNA=5 * np.random.rand(1, DNA_SIZE).repeat(POP_SIZE, axis=0),   # initialize the pop DNA values\n",
    "           mut_strength=np.random.rand(POP_SIZE, DNA_SIZE))                # initialize the pop mutation strength values\n",
    "\n",
    "x = np.linspace(*DNA_BOUND, 200)\n",
    "\n",
    "\n",
    "from IPython.display import HTML\n",
    "from matplotlib import animation, rc\n",
    "\n",
    "\n",
    "\n",
    "fig, ax = plt.subplots()\n",
    "\n",
    "x = np.linspace(*DNA_BOUND, 200)\n",
    "\n",
    "line, = ax.plot(x, F(x))\n",
    "scatt = ax.scatter([], [], c='red', alpha=0.5, lw=0, s=200)\n",
    "\n",
    "def init():\n",
    "    scatt.set_data([], [])\n",
    "    return (scatt)\n",
    "\n",
    "def animate(i):\n",
    "    x = pop['DNA']\n",
    "    y = F(pop['DNA'])\n",
    "    scatt.set_data(x, y)\n",
    "    return (scatt)\n",
    "\n",
    "\n",
    "anim = animation.FuncAnimation(fig, animate, init_func=init,\n",
    "                               frames=10, interval=20, blit=True)\n",
    "\n",
    "# anim.save('the_movie.mp4', writer = 'mencoder', fps=15)\n",
    "HTML(anim.to_html5_video())"
   ]
  },
  {
   "cell_type": "code",
   "execution_count": null,
   "metadata": {},
   "outputs": [],
   "source": []
  },
  {
   "cell_type": "code",
   "execution_count": null,
   "metadata": {},
   "outputs": [],
   "source": [
    "def animate(i):\n",
    "    x = np.linspace(0, 2, 1000)\n",
    "    y = np.sin(2 * np.pi * (x - 0.01 * i))\n",
    "    line.set_data(x, y)\n",
    "    return (line,)\n",
    "\n",
    "ax.scatter(pop['DNA'], F(pop['DNA']), s=200, lw=0, c='red', alpha=0.5)\n",
    "def animate(i):\n",
    "    x = np.linspace(0, 2, 1000)\n",
    "    y = np.sin(2 * np.pi * (x - 0.01 * i))\n",
    "    line.set_data(x, y)\n",
    "    return (line,)\n",
    "\n",
    "ax.scatter(pop['DNA'], F(pop['DNA']), s=200, lw=0, c='red', alpha=0.5)\n",
    "def animate(i):\n",
    "    x = np.linspace(0, 2, 1000)\n",
    "    y = np.sin(2 * np.pi * (x - 0.01 * i))\n",
    "    line.set_data(x, y)\n",
    "    return (line,)\n",
    "\n",
    "ax.scatter(pop['DNA'], F(pop['DNA']), s=200, lw=0, c='red', alpha=0.5)\n",
    "\n",
    "\n",
    "\n",
    "plt.plot(x, F(x))\n",
    "\n",
    "for _ in range(N_GENERATIONS):\n",
    "    # something about plotting\n",
    "    if 'sca' in globals(): \n",
    "        sca.remove()\n",
    "    sca = plt.scatter(pop['DNA'], F(pop['DNA']), s=200, lw=0, c='red', alpha=0.5); plt.pause(0.05)\n",
    "\n",
    "    # ES part\n",
    "    kids = make_kid(pop, N_KID)\n",
    "    pop = kill_bad(pop, kids)   # keep some good parent for elitism\n",
    "\n",
    "plt.ioff()\n",
    "plt.show()"
   ]
  },
  {
   "cell_type": "code",
   "execution_count": null,
   "metadata": {},
   "outputs": [],
   "source": []
  },
  {
   "cell_type": "code",
   "execution_count": 2,
   "metadata": {},
   "outputs": [],
   "source": [
    "import numpy as np\n",
    "import matplotlib.pyplot as plt\n",
    "\n",
    "from matplotlib import animation, rc\n",
    "from IPython.display import HTML"
   ]
  },
  {
   "cell_type": "code",
   "execution_count": 3,
   "metadata": {},
   "outputs": [
    {
     "ename": "RuntimeError",
     "evalue": "Requested MovieWriter (ffmpeg) not available",
     "output_type": "error",
     "traceback": [
      "\u001b[1;31m---------------------------------------------------------------------------\u001b[0m",
      "\u001b[1;31mKeyError\u001b[0m                                  Traceback (most recent call last)",
      "\u001b[1;32m~\\Anaconda3\\lib\\site-packages\\matplotlib\\animation.py\u001b[0m in \u001b[0;36m__getitem__\u001b[1;34m(self, name)\u001b[0m\n\u001b[0;32m    160\u001b[0m         \u001b[1;32mtry\u001b[0m\u001b[1;33m:\u001b[0m\u001b[1;33m\u001b[0m\u001b[1;33m\u001b[0m\u001b[0m\n\u001b[1;32m--> 161\u001b[1;33m             \u001b[1;32mreturn\u001b[0m \u001b[0mself\u001b[0m\u001b[1;33m.\u001b[0m\u001b[0mavail\u001b[0m\u001b[1;33m[\u001b[0m\u001b[0mname\u001b[0m\u001b[1;33m]\u001b[0m\u001b[1;33m\u001b[0m\u001b[1;33m\u001b[0m\u001b[0m\n\u001b[0m\u001b[0;32m    162\u001b[0m         \u001b[1;32mexcept\u001b[0m \u001b[0mKeyError\u001b[0m\u001b[1;33m:\u001b[0m\u001b[1;33m\u001b[0m\u001b[1;33m\u001b[0m\u001b[0m\n",
      "\u001b[1;31mKeyError\u001b[0m: 'ffmpeg'",
      "\nDuring handling of the above exception, another exception occurred:\n",
      "\u001b[1;31mRuntimeError\u001b[0m                              Traceback (most recent call last)",
      "\u001b[1;32m<ipython-input-3-b1e3cb8b05ee>\u001b[0m in \u001b[0;36m<module>\u001b[1;34m\u001b[0m\n\u001b[0;32m     22\u001b[0m anim = animation.FuncAnimation(fig, animate, init_func=init,\n\u001b[0;32m     23\u001b[0m                                frames=100, interval=20, blit=True)\n\u001b[1;32m---> 24\u001b[1;33m \u001b[0mHTML\u001b[0m\u001b[1;33m(\u001b[0m\u001b[0manim\u001b[0m\u001b[1;33m.\u001b[0m\u001b[0mto_html5_video\u001b[0m\u001b[1;33m(\u001b[0m\u001b[1;33m)\u001b[0m\u001b[1;33m)\u001b[0m\u001b[1;33m\u001b[0m\u001b[1;33m\u001b[0m\u001b[0m\n\u001b[0m",
      "\u001b[1;32m~\\Anaconda3\\lib\\site-packages\\matplotlib\\animation.py\u001b[0m in \u001b[0;36mto_html5_video\u001b[1;34m(self, embed_limit)\u001b[0m\n\u001b[0;32m   1324\u001b[0m                 \u001b[1;31m# We create a writer manually so that we can get the\u001b[0m\u001b[1;33m\u001b[0m\u001b[1;33m\u001b[0m\u001b[1;33m\u001b[0m\u001b[0m\n\u001b[0;32m   1325\u001b[0m                 \u001b[1;31m# appropriate size for the tag\u001b[0m\u001b[1;33m\u001b[0m\u001b[1;33m\u001b[0m\u001b[1;33m\u001b[0m\u001b[0m\n\u001b[1;32m-> 1326\u001b[1;33m                 \u001b[0mWriter\u001b[0m \u001b[1;33m=\u001b[0m \u001b[0mwriters\u001b[0m\u001b[1;33m[\u001b[0m\u001b[0mrcParams\u001b[0m\u001b[1;33m[\u001b[0m\u001b[1;34m'animation.writer'\u001b[0m\u001b[1;33m]\u001b[0m\u001b[1;33m]\u001b[0m\u001b[1;33m\u001b[0m\u001b[1;33m\u001b[0m\u001b[0m\n\u001b[0m\u001b[0;32m   1327\u001b[0m                 writer = Writer(codec='h264',\n\u001b[0;32m   1328\u001b[0m                                 \u001b[0mbitrate\u001b[0m\u001b[1;33m=\u001b[0m\u001b[0mrcParams\u001b[0m\u001b[1;33m[\u001b[0m\u001b[1;34m'animation.bitrate'\u001b[0m\u001b[1;33m]\u001b[0m\u001b[1;33m,\u001b[0m\u001b[1;33m\u001b[0m\u001b[1;33m\u001b[0m\u001b[0m\n",
      "\u001b[1;32m~\\Anaconda3\\lib\\site-packages\\matplotlib\\animation.py\u001b[0m in \u001b[0;36m__getitem__\u001b[1;34m(self, name)\u001b[0m\n\u001b[0;32m    162\u001b[0m         \u001b[1;32mexcept\u001b[0m \u001b[0mKeyError\u001b[0m\u001b[1;33m:\u001b[0m\u001b[1;33m\u001b[0m\u001b[1;33m\u001b[0m\u001b[0m\n\u001b[0;32m    163\u001b[0m             raise RuntimeError(\n\u001b[1;32m--> 164\u001b[1;33m                 'Requested MovieWriter ({}) not available'.format(name))\n\u001b[0m\u001b[0;32m    165\u001b[0m \u001b[1;33m\u001b[0m\u001b[0m\n\u001b[0;32m    166\u001b[0m \u001b[1;33m\u001b[0m\u001b[0m\n",
      "\u001b[1;31mRuntimeError\u001b[0m: Requested MovieWriter (ffmpeg) not available"
     ]
    },
    {
     "data": {
      "image/png": "[encoded data removed]",
      "text/plain": [
       "<Figure size 432x288 with 1 Axes>"
      ]
     },
     "metadata": {
      "needs_background": "light"
     },
     "output_type": "display_data"
    }
   ],
   "source": [
    "# First set up the figure, the axis, and the plot element we want to animate\n",
    "fig, ax = plt.subplots()\n",
    "\n",
    "ax.set_xlim(( 0, 2))\n",
    "ax.set_ylim((-2, 2))\n",
    "\n",
    "line, = ax.plot([], [], lw=2)\n",
    "\n",
    "# initialization function: plot the background of each frame\n",
    "def init():\n",
    "    line.set_data([], [])\n",
    "    return (line,)\n",
    "\n",
    "# animation function. This is called sequentially\n",
    "def animate(i):\n",
    "    x = np.linspace(0, 2, 1000)\n",
    "    y = np.sin(2 * np.pi * (x - 0.01 * i))\n",
    "    line.set_data(x, y)\n",
    "    return (line,)\n",
    "\n",
    "# call the animator. blit=True means only re-draw the parts that have changed.\n",
    "anim = animation.FuncAnimation(fig, animate, init_func=init,\n",
    "                               frames=100, interval=20, blit=True)\n",
    "HTML(anim.to_html5_video())"
   ]
  },
  {
   "cell_type": "code",
   "execution_count": null,
   "metadata": {},
   "outputs": [],
   "source": []
  }
 ],
 "metadata": {
  "kernelspec": {
   "display_name": "Python 3",
   "language": "python",
   "name": "python3"
  },
  "language_info": {
   "codemirror_mode": {
    "name": "ipython",
    "version": 3
   },
   "file_extension": ".py",
   "mimetype": "text/x-python",
   "name": "python",
   "nbconvert_exporter": "python",
   "pygments_lexer": "ipython3",
   "version": "3.6.9"
  }
 },
 "nbformat": 4,
 "nbformat_minor": 4
}