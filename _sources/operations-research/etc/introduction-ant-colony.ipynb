{
 "cells": [
  {
   "cell_type": "markdown",
   "metadata": {},
   "source": [
    "# Ant Colony Optimization\n",
    "\n",
    "<p style=\"text-indent: 1.5em\">개미 군집 최적화(ant colony optimization) 알고리즘은 개미 집단이 먹이를 찾고 둥지로 나르는 행동에서 영감을 얻어 개발한 확률적 탐색기법입니다. 개미들은 지나온 길에 페르몬(pheromone) 자국을 남기며 이 페르몬 자국은 뒤 따르는 개미들의 행동에 영향을 줍니다. 개미는 먹이를 찾을 때 페르몬을 매개로 하는 간접 의사소통에 의해 상호작용하면서 짧은 길을 찾아 나가는 것으로 알려져 있습니다. 개미 군집 최적화는 이산 탐색 공간을 갖는 조합 최적화 문제에 주로 적용됩니다.</p>\n",
    "\n",
    "<p style=\"text-indent: 1.5em\">$m_{A}(t)$와 $m_{B}(t)$는 시간 $t$에 각 경로 A와 B에 있는 개미의 수며 개미가 시간 단계 $t+1$에서 경로 A를 선택할 확률, $P_{A}(t+1)$은 다음과 같습니다.</p>\n",
    "\n",
    "$$\\begin{equation}\n",
    "P_{A}(t+1)=\\frac{(c+m_{A}(t))^{\\alpha}}{(c+m_{A}(t))^{\\alpha}+(c+m_{B}(t))^{\\alpha}}=1-P_{B}(t+1)\n",
    "\\end{equation}$$\n",
    "\n",
    "<p style=\"text-indent: 1.5em\">$\\alpha$는 축적된 페로몬 양에 따른 편향을 나타내며 $\\alpha$가 클수록 개미가 페로몬 농도가 높은 경로를 선택할 확률이 높아집니다. $c$는 새로운 경로로 이끄는 정도를 나타내며 $c$가 커질수록 경로의 무작위 선택을 막기 위해서 더 많은 양의 페로몬이 축적되어야 합니다.</p>\n",
    "\n",
    "$$\\begin{equation}\n",
    "p_{ij}^{k}(t)=\n",
    "    \\begin{cases}\n",
    "        \\frac{\\tau_{ij}^{\\alpha}(t)}{\\sum_{u \\in N_{i}^{k}} \\tau_{iu}^{\\alpha}(t)}, \\quad \\text{if } j \\in N_{i}^{k}\\\\\n",
    "        0 \\qquad \\qquad     \\text{if } j \\notin N_{i}^{k}\n",
    "    \\end{cases}\n",
    "\\end{equation}$$"
   ]
  },
  {
   "cell_type": "code",
   "execution_count": null,
   "metadata": {},
   "outputs": [],
   "source": []
  },
  {
   "cell_type": "markdown",
   "metadata": {},
   "source": [
    "## S-ACO 알고리즘 절차\n",
    "\n",
    "<p style=\"text-indent: 1.5em\"></p>\n",
    "\n",
    "<div>\n",
    "    <ul style=\"list-style-type: none;\">\n",
    "        <li><b>STEP 1: (Initialize)</b></li>\n",
    "            <ol>\n",
    "                <li>$\\tau_{ij}(0)=\\tau(0),\\,\\forall (i,j) \\in A$에 작은 값을 부여한다.</li>\n",
    "                <li>$t=0$으로 두고, $m$개의 모든 개미를 시작점에 둔다.</li>\n",
    "            </ol>\n",
    "        <li><b>STEP 2: (Finding, Removing, Calculating route)</b></li>\n",
    "            <ol>\n",
    "                <li>$x^{k}(t)=\\emptyset,\\, k=1,2,\\dots,m$으로 둔다.</li>\n",
    "                <li>전이확률을 계산한 뒤, 다음에 이동할 호를 선택하여 경로 $x^{k}(t)$에 추가하면서 목적지까지 도달한다.</li>\n",
    "                <li>목적지에 도달하면 전진 경로를 찾으며 $x^{k}(t)$에서 모든 경로를 제거한다.</li>\n",
    "                <li>$x^{k}(t)$의 경로길이, $f(x^{k}(t))$를 계산한다.</li>\n",
    "            </ol>\n",
    "        <li><b>STEP 3: </b>(Pheromone vaporization)</li>\n",
    "            <ol>\n",
    "                <li>$\\tau_{ij}(t) \\leftarrow(1-\\rho)\\tau_{ij}(t),\\, \\forall(i,j) \\in A$로 모든 호에서 페로몬 $tau_{ij}(t), \\, \\forall(i,j) \\in A$를 감소(증발)시킨다.</li>\n",
    "                <li></li>\n",
    "            </ol>\n",
    "        <li><b>STEP 4: </b>(Adding pheromone)</li>\n",
    "            <ol>\n",
    "                <li>각 개미 $k=1,2,\\dots,m$에 대해 시간 단계 $t$의 경로 $x^{k}(t)$에 있는 모든 호 $(i,j)\\in x^{k}(t)$에 추가되는 페로몬 양, $\\Delta \\tau_{ij}^{k}(t) = \\frac{1}{f(x^{k}(t)},\\,\\forall (i,j) \\in x^{k}(t), \\forall k$를 구한다.</li>\n",
    "                <li>$\\tau_{ij}(t+1)=\\tau_{ij}(t)+\\sum_{k=1}^{m}\\Delta \\tau_{ij}^{k}(t), \\forall (i,j)\\in A$를 계산하여 모든 호 $(i,j) \\in A$에 대해 $\\tau_{ij}(t+1)$을 구한다.</li>\n",
    "            </ol>\n",
    "        <li><b>STEP 5: </b>(Terminal condition)</li>\n",
    "            <ol>\n",
    "                <li>종료조건을 만족하면 끝낸다.</li>\n",
    "                <li>그렇지 않으면 모든 개미를 시작점에 두고, $t \\leftarrow t+1$로 두고 <b>STEP 2</b>로 간다.</li>\n",
    "            </ol>\n",
    "    </ul>\n",
    "</div>"
   ]
  },
  {
   "cell_type": "code",
   "execution_count": null,
   "metadata": {},
   "outputs": [],
   "source": []
  },
  {
   "cell_type": "code",
   "execution_count": null,
   "metadata": {},
   "outputs": [],
   "source": [
    "단점\n",
    "\n",
    "* 매우 단순한 그래프에서는 최단 경로를 잘 찾으나, 문제가 복잡해질수록 안정적이지 못하고 파라미터에 민감해서 성능이 매우 떨어진다.\n",
    "* 해의 품질에 기초한 페로몬 갱신이 그렇지 않는 경우보다 월등히 좋읂 ㅐ를 찾았다. \n"
   ]
  }
 ],
 "metadata": {
  "kernelspec": {
   "display_name": "Python 3",
   "language": "python",
   "name": "python3"
  },
  "language_info": {
   "codemirror_mode": {
    "name": "ipython",
    "version": 3
   },
   "file_extension": ".py",
   "mimetype": "text/x-python",
   "name": "python",
   "nbconvert_exporter": "python",
   "pygments_lexer": "ipython3",
   "version": "3.6.8"
  }
 },
 "nbformat": 4,
 "nbformat_minor": 2
}