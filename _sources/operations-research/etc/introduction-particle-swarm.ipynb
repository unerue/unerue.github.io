{
 "cells": [
  {
   "cell_type": "markdown",
   "metadata": {},
   "source": [
    "# Particle Swarm Optimization\n",
    "\n",
    "<p style=\"text-indent: 1.5em\">입자 군집 최적화(particle swarm optimization, PSO)은 전역 최적화 기법입니다. 반복적 연산을 통하여 후보해들이 동시에 개선되게 하므로써 최종적으로 목적함수 최적화를 달성합니다. 후보해들의 움직임은 특정한 수학 공식을 따르게 된다. 여러 후보해를 동시에 취급하는 특징이 있습니다. 집단해를 다룬다는 점에서 유전 알고리즘과 비슷합니다 하지만 입자 군집 최적화는 여러 후보해 사이의 정보를 교환하는 특징이 있습니다. 하나의 후보해가 가지고 있는 정보와 무리 전체가 가지고 있는 정보를 동시에 사용합니다.</p>\n",
    "\n",
    "<p style=\"text-indent: 1.5em\">시간 $t$에서 입자 $i$의 위치를 벡터 $\\vec{x}_{i}(t)$이며 이산시간이라 가정하고 시간 $t+1$에서 입자 $i$의 위치 변화 $\\Delta \\vec{x}_{i}(t+1)$를 속도 $\\vec{v}_{i}(t+1)$로 표현합니다. 시간 $t+1$에서 입자 $i$의 위치 $\\vec{x}_{i}(t+1)$은 시간 $t$의 위치벡터에 속도벡터를 더한 값으로</p>\n",
    "\n",
    "$$\\begin{equation}\n",
    "\\vec{x}_{i}(t+1)=\\vec{x}_{i}(t)+\\vec{v}_{i}(t+1)\n",
    "\\end{equation}$$\n",
    "\n",
    "<p style=\"text-indent: 1.5em\">로 표현합니다. 식(1)에서 최적화 과정에서 중요한 요소는 속도 $\\vec{v}_{i}(t+1)$입니다. 다음 위치는 현 위치에 다음 이동할 방향과 거리를 나타내는 속도 $\\vec{v}_{i}(t+1)$를더한 값입니다. 현 위치에서 다음 위치로 이동 변화량, $\\vec{v}_{i}(t+1)$는 현재 위치, 직전 속도, 개인최선위치, 전역 최선위치의 함수는 다음과 같습니다.</p>\n",
    "\n",
    "$$\\begin{equation}\n",
    "\\vec{v}_{i}(t+1)=\\vec{v}_{i}(t)+c_{1}\\vec{r}_{1}(t)\\big[ \\vec{y}_{i}(t)-\\vec{x}_{i}(t) \\big] +c_{2}\\vec{r}_{2}(t) \\big[ \\vec{\\hat{y}}(t)-\\vec{x}_{i}(t) \\big]\n",
    "\\end{equation}$$\n",
    "\n",
    "<p style=\"text-indent: 1.5em\">여기서 $\\vec{y}_{i}(t)$는 시간 $t$에서 입자 $i$의 최선위치, $\\vec{y}(t)$는 시간 $t$에서 이웃최선위치, $\\vec{r}_{1}(t)$와 $\\vec{r}_{2}(t)$는 범위 $[0,1]$의 난수이고, $c_{1}$과 $c_{2}$는 상수입니다. $c_{1}$과 $c_{2}$는 각각 인지요소와 사회요소의 기여도 크기를 나타내는 양의 가속계수(acceleration coefficient)입니다. $c_{1}\\vec{r}_{1}$와 $c_{2}\\vec{r}_{2}$는 상한이 각각 $c_{1}$과 $c_{2}$인 난수입니다. 식 (3)의 $\\vec{v}_{i}(t+1)$를 해공간의 차원으로 표현하면 다음과 같습니다.</p>\n",
    "\n",
    "$$\\begin{equation}\n",
    "v_{ij}(t+1)=v_{ij}(t)+c_{1}r_{1j}(t)\\big[ y_{ij}(t)-x_{ij}(t) \\big] +c_{2}r_{2j}(t) \\big[ \\hat{y}_{j}(t) - x_{ij}(t) \\big]\n",
    "\\end{equation}$$\n",
    "\n",
    "여기서 $v_{ij}(t)$는 시간 $t$에서 입자 $i$의 차원 $j$의 속도이고, $x_{ij}(t)$는 시간 $t$에서 입자 $i$의 차원 $j$의 위치입니다. 입자 $i$의 개인최선위치 $\\vec{y}_{i}(t)$는 시작에서 시간 $t$까지 입자 자신이 방문한 위치 중에서 가장 좋은 위치입니다. 따라서 이 위치는 매 단위 시간마다 갱신됩니다. 다루고자하는 문제가 최소화이면 시간 $t+1$에서 $\\vec{y}_{i}(t+1)$는 아래와 같습니다.\n",
    "\n",
    "$$\\begin{equation}\n",
    "v_{ij}(t+1)=\\begin{cases}\n",
    "v_{j}(t) \\quad & \\text{if } f(\\vec{x}_{i}(t)) \\ge f(\\vec{y}_{i}(t))\\\\\n",
    "\\vec{x}_{i}(t+1) \\quad & \\text{if } f(\\vec{x}_{i}(t)) \\lt f(\\vec{y}_{i}(t))\n",
    "\\end{cases}\\end{equation}$$\n",
    "\n",
    "<ul>\n",
    "    <li><b>직전속도</b>(previous velocity, $\\vec{v}_{i}(t)$): 직전 비행 방향을 기억하여 방향 변경을 막고 현재 방향으로 가려는 모멘텀(momentum)입니다. 이를 관성(inertia)속도라고도 합니다. </li>\n",
    "    <li><b>인지요소</b>(cognitive component, $c_{1}\\vec{r}_{1}(\\vec{y}_{i}-\\vec{x}_{i})$): 입자 $i$가 과거 자신의 경험에서 받은 것을 정량화한 것으로 인지요소는 입자들이 과거 자신이 찾은 가장 좋은 위치 $\\vec{y}_{i}$를 기억하여 그 위치로 다시 끌어당긴다. </li>\n",
    "    <li><b>사회요소</b>(social component, $c_{2}\\vec{r}_{2}(\\hat{\\vec{y}}-\\vec{x}_{i})$):</li>\n",
    "</ul>\n"
   ]
  },
  {
   "cell_type": "code",
   "execution_count": null,
   "metadata": {},
   "outputs": [],
   "source": []
  },
  {
   "cell_type": "code",
   "execution_count": null,
   "metadata": {},
   "outputs": [],
   "source": []
  },
  {
   "cell_type": "code",
   "execution_count": null,
   "metadata": {},
   "outputs": [],
   "source": []
  },
  {
   "cell_type": "code",
   "execution_count": null,
   "metadata": {},
   "outputs": [],
   "source": []
  },
  {
   "cell_type": "code",
   "execution_count": null,
   "metadata": {},
   "outputs": [],
   "source": []
  },
  {
   "cell_type": "code",
   "execution_count": null,
   "metadata": {},
   "outputs": [],
   "source": []
  },
  {
   "cell_type": "code",
   "execution_count": null,
   "metadata": {},
   "outputs": [],
   "source": []
  },
  {
   "cell_type": "code",
   "execution_count": null,
   "metadata": {},
   "outputs": [],
   "source": []
  },
  {
   "cell_type": "code",
   "execution_count": null,
   "metadata": {},
   "outputs": [],
   "source": []
  },
  {
   "cell_type": "markdown",
   "metadata": {},
   "source": [
    "아주 간단한 광역 최적화(global optimization) 알고리듬이다.  아마도 가장 간단한 광역 최적화 알고리듬이다. 유전 알고리듬(genetic  algorithm)과 비교할 때 매우 단순한 알고리듬이라고 볼 수 있다. 유전 알고리듬을 이해하고 있다면 금방 PSO 를 이해할 수 있다.  그 반대도 마찬가지이다. 하지만, 언급한 두 가지 알고리듬들 사이에는 개념적으로, 근본적으로 많은 차이가 있다. 실제 연습에서 유전 알고리듬(교차, 변이) 보다 먼저 입자 군집 최적화 알고리듬을 구현해 보는 것이 결코 나쁘지 않다. 왜나 하면, 입자 군집 최적화 알고리듬이 보다 더 간단하기 때문이다. 새, 물고기와 같이 집단행동을 하는 생물들의 집단행동 특성에서 광역 최적화의 아이디어를 얻었다. PSO와 유전 알고리듬의 공통점은 두 방법 모두 한 무리의 해들을 가정하는 것에서 찾을 수 있다. 두 방법 모두 병렬화가 용이하다. 병렬 효율성도 매우 뛰어나다. 함수의 일차미분값들을 필요로 하지 않는다. 따라서, 일차 미분값들이 알려지지 않은 매우 일반적인 복잡한 함수 최적화에 쉽게 적용될 수 있다.\n",
    "\n",
    "가장 중요한 점은 입자(새 한 마리, paticle, 후보해)의 운동은 무리, 군집(swarm)의 정보를 적극적으로 이용한다는 점이다. 사실상 정보교환을 통해서 얻어진 군집(무리)의 결정을  매우 중요하게 고려하는 것이다. 물론, 새 한 마리도 무리의 결정을 위해서 정보를 공유한다. 새 한 마리 입장에서, 자신의 역대  기록을 제공한다. 또한, 군집 전체의 역대 정보를 활용한다. 여기서 역대 기록이라고 함은 입자 하나가 시간이 지나면서 얻어낸 최소 목적  함수값을 제공하는 위치를 지칭하는 것이다. 군집 전체에 동일한 조건을 요구할 수 있다. 군집 전체가 지금까지 얻어낸 최소 목적 함수 값을 주는  입자의 위치를 보관할 필요가 있다. 유전 알고리듬에서와 마찬가지로 다수의 해(입자의 위치, 새 한마리의 위치)들을 동시에 취급한다.  또한, 확률론적 접근법이다. 결국, 많은 계산을 수반할 수밖에 없다.  얻어진 해가 절대적인 광역 최적화의 끝이라는 것을 알 수 없다.  \n",
    "\n",
    "PSO는 유전 알고리듬과 전혀 다른 개념에 기반 한다. 개체들의 운동 특성과 개체간의 정보교환에 집중한다.  유전 알고리듬 (genetic algorithm; GA)에서 중요한  개념인 crossover, mutation이라는개념이 활용되지 않는다는 점에 주의해야만 한다.  또한, 선택, 대치의 개념도 없다. 우월한 유전자를 찾아내고 장려하는 선택이 없다. 또한 입자는 결코 다른 입자들에 의해서 대체되지 않는다. 다만, 변화 할뿐이다. 표면적으로는 그렇다. 하지만, 나중에 실제 계산 작업 단계로 가면 유사성을 얻어 낼 수도 있다.\n",
    "\n",
    "비록 수치적으로 같은 개념일 수  있지만, 실제로 도입되는 단계에서는 결코, crossover, mutation이라는 개념을  동원하지 않는다.  대신에, 무리들의 운동에서 개체의 운동 특성을 존중한다.  또한 무리들 내부의 공통의 기록과 정보를 반드시 공유하게 된다.  개인과 집단  전체 사이의 관계라는 관점에서 이해해야 하는 PSO 알고리듬이다.\n",
    "\n",
    "집단의 수행 특성을 기준으로 새로운 해들을 찾아 나가게 된다.  개인의 기록, 최적 기록과 집단의  기록, 최적 기록을각각 기록해 보관하는 특징이 있다.  PSO 에서는 개체간의 정보 공유가 키워드가 될 수 있다.  유전체와 진화를 다루는 것은 유전 알고리듬이다. 키워드가 사뭇 다르다.  결국, 유전 알고리듬의 핵심 사항이고 문제마다 새롭게 정의해야 하는 crossover,  mutation을 추가로 다룰 필요가 없어진다. selection pressure 도 다루지 않아도 됩니다.  아무튼, 무지하게 간단해집니다.   여러 해를 동시에 취급하는 방법들 중에서 아마도 가장 간단한 알고리듬이 아닐까? 다시  말해서, 유전적 특징에 기인한 이론이 아니다. 오히려,  행동의 특성과 무리 안의 정보 공유 특성에 기반한  알고리듬이다. 유전 알고리듬은 염색체 정보가 특성을 결정할 것이라고 믿는 반면,  PSO에서는 보여준 개체들 특성에 보다 더  집중한다. 개체와 군집(무리)의 특성들 사이에서 새로운 특성을 찾아내게 된다.  개체와 무리의 상호작용을 직접적으로 다룬다. 군집(무리) 사회에서의 정보 공유가 기본적인 가정으로 여겨진다.  즉, 유전 알고리듬에서 활용하는 개념인 선택이 여기에서도 존재한다.  사실상, 통신을 통해서,  어떠한 개체가 현재까지 이룩한 최고의 상황(목적 함수 최소값을 주는 개체의 위치)을 모든 개체가 다 공유하게 되어 있다.\n",
    "\n",
    "개체 최적 상황(목적 함수 값이 가장 작은 경우에 해당하는 위치)도 각 개체는 기억을 하고 있다. 여전히 집단 ---> 집단의 방식으로 새로운 개체(개체의 위치)를 찾는다."
   ]
  },
  {
   "cell_type": "code",
   "execution_count": null,
   "metadata": {},
   "outputs": [],
   "source": []
  }
 ],
 "metadata": {
  "kernelspec": {
   "display_name": "Python 3",
   "language": "python",
   "name": "python3"
  },
  "language_info": {
   "codemirror_mode": {
    "name": "ipython",
    "version": 3
   },
   "file_extension": ".py",
   "mimetype": "text/x-python",
   "name": "python",
   "nbconvert_exporter": "python",
   "pygments_lexer": "ipython3",
   "version": "3.6.9"
  }
 },
 "nbformat": 4,
 "nbformat_minor": 4
}