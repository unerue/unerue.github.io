{
 "cells": [
  {
   "cell_type": "markdown",
   "metadata": {},
   "source": [
    "## Tabu Search\n",
    "\n",
    "<p style=\"text-indent: 1.5em\"><b>타부 서치(tabu search, TS)</b>는 Glover가 1986년에 인간의 기억과정을 모방하여 개발한 메타휴리스틱입니다. Tabu (taboo)는 남태평양 통가(Tonga) 원주민이 사용하는 신성한 것에 대해 금기라는 단어에서 유래되었습니다. TS는 기존 메타 휴리스틱스를 종합적으로 구성한 것으로 유전 알고리즘처럼 가능해 집합 $X$를 고정하지만, 새로운 해를 만들 때 타부 조건이라는 기억을 유지해서 앞서 고려했던 열등한 해를 고려하지 않고 열망조건이라는 기억장치를 생성하여 우수한 해의 등장 가능성을 높입니다. 또한, 기존의 형태에서 다양화(diversification)와 집중화(intensification)를 고려하여 다양한 확장이 가능합니다.</p>\n",
    "\n",
    "<p style=\"text-indent: 1.5em\">타부 서치는 과거의 탐색 정보를 기억(memory)하여 해의 이동을 제한하거나 이동 방향을 결정합니다. 대표적인 기억으로 단기기억(short term memory)과 장기기억(long term memory)이 있습니다. 단기기억은 최근 일정기간 동안 방문한 해의 이동 정보를 기억하며 해의 순환을 막고 탐색 영역을 확장합니다. 이를 최근기반기억(recency-based memory)이라고 하며, 이동에 관한 기억 정보는 방문한 완전해(entire solution)의 형태가 아니라 이동의 조건을 나타내는 속성(attribute)으로 나타냅니다. 단기기억에 의해 금지된 이동을 타부 이동(tabu move)이라 합니다. 반면 장기기억은 처음부터 현재까지 해의 이동에 관한 정보가 저장되며 이 정보는 해의 탐색 빈도로 나타냅니다. 이를 빈도기반 기억(frequency-based memory)이라 합니다. 해의 탐색 빈도는 속성을 기준으로 계산되며 시작에서 지금까지의 이동에서 각 속성을 갖는 이동이 몇 회 발생한 지를 기억합니다. 장기기억은 탐색 빈도가 낮은 이동 속성을 파악하여 이들 속성을 갖는 이동으로 현재해를 유도하는 데 사용됩니다.타부 서치는 다양한 조합 최적화 문제에 효율적으로 작동됩니다.</p>\n",
    "\n",
    "<p style=\"text-indent: 1.5em\">목적함수 $f(x)$를 최소화하는 최적화 문제에서 결정변수 $x$는 모든 제약조건을 만족하는 가능해 집합 $X$의 원소 $x \\in X$입니다. 이웃탐색 방법은 하나의 해에서 특정 조건에 따라 이웃에 있는 다른 해로 옮겨가며 이 과정을 종료조건이 만족될 때까지 반복합니다. 여기서 $x \\in X$는 자신의 이웃 $N(x) \\subset X$를 갖고 해 $x$의 탐색적 운영에 의해 이웃해 $x^{\\prime} \\in N(x)$에 도달합니다. 이를 해의 이동(move)이라 부릅니다.</p>\n",
    "\n",
    "### 타부 서치의 구조\n",
    "\n",
    "<p style=\"text-indent: 1.5em\">타부 서치의 구조(structure of tabu search)는 해의 탐색 과정을 일정 기간 기억해서 최근 방문한 해의 재방문을 막고 해가 개선되지 않더라도 이웃에서 가장 좋은 해로의 이동을 허용하여 지역 탐색을 벗어나게 합니다. TS의 주요 요소와 파라미터는 현재해에서 이웃해를 생성하는 방법(이웃 구조), 금지된 이동(tabu move)에 관한 속성인 타부 속성(tabu attribute), 금지된 이동 속성을 기록한 목록인 타부 목록(tabu list), 각 타부 이동을 기억하는 기간과 관련되는 타부목록의 크기, 그리고 타부 이동이지만 이동을 허용하는 조건인 열망수준(aspiration level) 등이 있습니다.</p>\n",
    "\n",
    "<p style=\"text-indent: 1.5em\">초기해를 구하여 현재해로 두고 현재해의 이웃에서 이웃해를 생성하고 평가합니다. 이웃해 집합에서 타부이동이고 열망수준을 만족하지 못하는 이웃해를 삭제하고 이웃해 집합에서 가장 좋은 해를 현재해로 갱신합니다. 해의 이동과 관련된 속성으로 타부 목록을 갱신하고 종료조건이 만족될때까지 반복합니다.</p>\n",
    "\n",
    "#### 이웃해 탐색 전략\n",
    "\n",
    "<p style=\"text-indent: 1.5em\">단일해 기반의 메타휴리스틱인 타부 서치는 현재해의 이웃에서 후보해를 탐색하고 이동합니다. 이웃 후보해는 이웃 구조에 의해 생성되며 효율적인 해 공간을 탐색하기 위해 적절한 이웃 구조가 필요합니다. 이웃 구조는 현재해의 지역 변화(local transformation)으로 정의할 수 있으며 하나의 이웃 구조만을 사용할 필요는 없습니다. 복수의 여러 이웃 구조를 동시에 사용할 수도 있고, 실행 도중 그 구조를 변경할 수도 있습니다.</p>\n",
    "\n",
    "<p style=\"text-indent: 1.5em\">타부 서치의 설계에서 이웃 구조와 함께 이웃의 크기도 고려되어야 하는데 조합 최적화 문제에서 이웃 크기는 이웃에 있는 후보해의 수입니다. 조합 문제에서 문제의 크기에 따라 이웃해의 수가 지수적으로 증가하는 경우가 흔히 발생합니다. 따라서 이웃해 탐색 전략(search strategy of neighbor solution)은 매우 다양하고 이웃 크기가 큰 경우에는 탐색 속도와 해의 품질 측면에서 그 크기를 효과적으로 축소할 수 있는 전략이 필요하고 이웃의 부분집합으로 이웃 후보해를 축소하는 전략을 후보목록전략(candidate list strategy)이라고 합니다.</p>\n",
    "\n",
    "<p style=\"text-indent: 1.5em\">먼저, 해의 표현은 하나의 가능해로 출발지를 출발하여 도시 2-5-1-4-3의 순으로 거쳐 본사로 돌아오는 경로 $[2, 5, 1, 4, 3]$의 순열로 표현합니다. 여기서 $i$번째 원소값 $j$는 $i$번째 거치는 도시 $j$를 나타냅니다. 이웃 탐색하는 방법은 여러 방법이 존재하는데 임의의 두 도시의 위치를 교환하는 교환(swap) 이동, 한 도시를 다른 위치에 두는 삽입(insertion) 이동, 인접하는 두 도시의 위치를 바꾸는 인접 교환(adjacent swap) 이동, 특정 부분 경로의 순서를 꺼꾸로 하는 역순(inversion) 이동 등 각 이동에 의해 생성되는 해들의 각 형태의 이웃 구조로 정의할 수 있습니다.</p>\n",
    "\n",
    "<ul>\n",
    "    <li><b>교환 이동(swap):</b> 두 도시를 교환하는 이동으로 임의로 선택된 두 도시가 4와 5일 때, 이들의 교환 이동은의 경우의 수는 $n(n-1)/2$개입니다.</li>\n",
    "    <li><b>삽입 이동(insertion):</b> 한 도시를 다른 위치로 삽입하는 이동으로 도시의 수가 $n$일 때 총 경우의 수는 $(n-1)+(n-2)(n-1)=(n-1)^{2}$</li>\n",
    "    <li><b>인접 교환 이동(adjacent swarp):</b> 총 경우의 수는 $(n-1)$개입니다.</li>\n",
    "    <li><b>역순 이동(inversion):</b> 임의의 부분 경로를 선택하여 역순으로 변화시키는 이동입니다.</li>\n",
    "</ul>\n",
    "\n",
    "<div style=\"text-align:center\"><img src=\"images/figures/ts-01.png\"  width=\"50%\" /><br><b>그림 1 </b>다양한 이웃해 탐색 전략</div><br>\n",
    "\n",
    "#### 타부목록\n",
    "\n",
    "<p style=\"text-indent: 1.5em\">타부 목록(tabu list)은 이동이 금지되는 최근 해의 이동에 관한 특정 속성을 저장하는 목록인 타부 정보를 기억하는 것입니다. 이때 단기기억에 저장된 최근 이동과 같은 조건(속성)을 갖는 이웃해로의 금지된 이동을 타부이동이라 하며, 이를 규정하는 조건을 타부 속성(tabue attribute)이라고 합니다. 따라서 타부 목록은 타부 속성을 저장하는 목록이며, 타부 서치에서 흔히 현재해의 이동에 관한 정보는 완전해로 기록하지 않고 이동의 특성을 나타낼 수 있는 속성으로 기록합니다.</p>\n",
    "\n",
    "<p style=\"text-indent: 1.5em\">타부 목록의 가장 간단한 형태는 최근 $n$회 방문한 해들의 이동 속성을 차례대로 저장하는 것으로 타부 목록에 저장되는 최근 연속된 해의 이동에 관한 속성의 수 $n$을 타부 목록 크기(size of tabu list)라 부릅니다. 타부 서치에서 해의 순환은 최소한 타부 목록 크기의 이동 동안은 방지됩니다. 그리고 타무 목록에는 항상 최근 $n$회의 이동 속성이 기록되므로 각 타부 속성은 $n$기간 동안 목록에 머무르게 됩니다. 이 기간을 타부 기간이라 부르며 이는 타무 목록 크기와 같습니다.</p>\n",
    "\n",
    "<p style=\"text-indent: 1.5em\">타부 목록은 선입선출 방식으로 새로운 타부속성이 들어오면 가장 먼저 들어온 타부 속성이 목록에서 빠져나가는 방식으로 운영됩니다. 타부 목록의 크기가 크면 이웃의 여러 이동을 금지하여 이동 제약이 많아 탐색이 다양화됩니다. 그러나 이웃 탐색을 약화시켜 좋은 해를 찾지 못할 수도 있습니다. 반면 타부 목록의 크기가 작으면 타부 제약이 약해져 이웃 탐색이 강회되나 다양화가 약화되고 순환이 발생할 가능성이 높아집니다.</p>\n",
    "\n",
    "#### 타부 속성\n",
    "\n",
    "<p style=\"text-indent: 1.5em\">타부 목록에 저장되어 타부 이동을 규정하는 타부 속성(tabu attribute)은 이동 방법에 따라 다르게 표현된다. 그리고 속성의 폭에 따라 이웃 크기가 달라지고 이동 궤적이 변합니다. 따라서 타부 속성은 문제의 복잡도에 따라 적절한 수준으로 설정해야 합니다. 교환 이웃 구조에서 교환하는 두 도시를 속성으로 갖는 경우 다음 세 경우로 볼 수잇다습니다. 두 도시의 순서와 위치를 고려하지 않은 속성, 두 도시의 순서만을 고려하는 속성, 교환하는 두 도시와 그 위치를 모두 고려하는 속성입니다. 이들 속성은 차례로 이동 제약을 약화시킵니다. 이들 타부속성 중에서 첫 번째가 이동 제약이 가장 강하고 마지막이 가장 약합니다.</p> \n",
    "\n",
    "<p style=\"text-indent: 1.5em\">예를 들면, 타부 속성이 $[5,4]$이면 현재해가 $[2, 5, 1, 4, 3]$이나 $[2, 4, 5, 1, 3]$인 경우 두해 에서 모두 $5$와 $5$의 교환이동은 타부 이동이 됩니다. 두 번째 경우에는 타부 속성에 $[5,4]$이면 $[2, 5, 1, 4, 3]$의 경우는 $5$와 $4$의 교환 이동이 금지되고 $[2, 4, 5, 1,3]$의 경우 $[4, 5]$의 교환이동이 허용됩니다. 삽입이동에서 $[2, 5, 1, 4, 3]$에서 $1$번 도시를 선택하여 두번째 위치로 산입하였을때 이때 삽입도시와 삽입되기 전의 위치 $(1,3)$을 지정할수있습니다. 앞의 경우 타부기간 동안 도시 $1$의 삽입을 금지하고 후자의 경우는 도시 $1$이 세번째 위치로 삽입되는 이동을 금지합니다.</p>\n",
    "\n",
    "#### 열망수준\n",
    "\n",
    "<p style=\"text-indent: 1.5em\">열망수준(aspiration level)은 현재해에서 더 좋은 해를 나타나는 타부이동이면 이동을 허락하는 기준을 뜻합니다.</p>\n",
    "\n",
    "### 타부 서치의 절차\n",
    "\n",
    "<p style=\"text-indent: 1.5em\">타부 서치의 절차(procedure of tabu search)는 다음과 같습니다.</p>\n",
    "   \n",
    "<ul style=\"list-style-type: none;\">\n",
    "  <li><b>STEP 1: </b></li>\n",
    "    <ol>\n",
    "      <li>타부 속성, 타부 목록 크기, 열망수준과 종료조건 등을 결정한다.</li>\n",
    "      <li>초기해를 생성한다.</li>\n",
    "    </ol>\n",
    "  <li><b>STEP 2:</b></li>\n",
    "    <ol>\n",
    "      <li>현재해로부터 이웃해를 생성하고 이들을 모든 이동을 허용하는 이동 집합에 둔다.</li>\n",
    "      <li>타부이동이 열망수준을 만족하지 못하면 이동 집합에서 삭제한다.</li>\n",
    "      <li>이동 집합의 모든 후보해를 평가하고 가장 좋은 해를 현재해로 설정한다.</li>\n",
    "      <li>현재해가 최선해보다 좋으면 최선해로 갱신하고,</li>\n",
    "      <li>최선해가 열망수준보다 더 좋으면 열망수준을 갱신한다.</li>\n",
    "      <li>현재해의 이동 속성을 타부목록에 저장한다.</li>\n",
    "    </ol>\n",
    "  <li><b>STEP 3:</b></li>\n",
    "    <ol>\n",
    "      <li>만약 종료기준을 만족하면 종료하고 그렇지 않으면 <b>STEP 2</b>로 돌아간다.</li>\n",
    "    </ol>\n",
    "</ul>\n",
    "\n",
    "### 파이썬으로 구현하는 타부 서치"
   ]
  },
  {
   "cell_type": "code",
   "execution_count": 1,
   "metadata": {},
   "outputs": [
    {
     "data": {
      "text/plain": [
       "array([[  0,  42,  73,  87,  66,  46,  91,  35,  62,  55],\n",
       "       [ 42,   0, 108,  99,  84,  85,  98,  13,  72,  64],\n",
       "       [ 73, 108,   0,  60,  46,  29,  71,  96,  60,  61],\n",
       "       [ 87,  99,  60,   0,  21,  71,  11,  86,  27,  35],\n",
       "       [ 66,  84,  46,  21,   0,  50,  29,  70,  16,  21],\n",
       "       [ 46,  85,  29,  71,  50,   0,  80,  74,  58,  56],\n",
       "       [ 91,  98,  71,  11,  29,  80,   0,  86,  29,  36],\n",
       "       [ 35,  13,  96,  86,  70,  74,  86,   0,  59,  51],\n",
       "       [ 62,  72,  60,  27,  16,  58,  29,  59,   0,   8],\n",
       "       [ 55,  64,  61,  35,  21,  56,  36,  51,   8,   0]])"
      ]
     },
     "execution_count": 1,
     "metadata": {},
     "output_type": "execute_result"
    }
   ],
   "source": [
    "from metaheuristics.problems import TravelingSalesman\n",
    "\n",
    "cities = TravelingSalesman(100, 100, 10, 42).generate()\n",
    "cities"
   ]
  },
  {
   "cell_type": "markdown",
   "metadata": {},
   "source": [
    "#### 이웃해 탐색\n",
    "\n",
    "<p style=\"text-indent: 1.5em\">이웃해를 탐색하기 위한 방법으로 <a href=\"https://en.wikipedia.org/wiki/2-opt\">2-opt</a>를 사용하였고, 시뮬레이티드 어닐링에서 사용했던 함수에 추가로 타부값을 반환합니다. 타부값은 2-opt에 사용된 인덱스의 위치쌍의 <code>tuple</code>입니다. 그리고 이웃해를 적당한 크기만큼 생성합니다.</p>"
   ]
  },
  {
   "cell_type": "code",
   "execution_count": 2,
   "metadata": {},
   "outputs": [],
   "source": [
    "def two_opt(solution):\n",
    "    new_solution = solution.copy()\n",
    "    changed = True\n",
    "    while changed:\n",
    "        i = np.random.choice(range(1, len(solution)-2))\n",
    "        j = np.random.choice(range(i+1, len(solution)))\n",
    "        if j-i != 1:\n",
    "            new_solution[i:j] = reversed(solution[i:j])\n",
    "            changed = False\n",
    "        else:\n",
    "            continue\n",
    "\n",
    "    return new_solution, (i, j)\n",
    "\n",
    "def _get_neighbors(solution):\n",
    "    candidate_list = []\n",
    "    tabu_list = []\n",
    "\n",
    "    n = 0\n",
    "    while n < n_neighbors:\n",
    "        candidate, tabu = two_opt(solution)\n",
    "        if candidate not in candidate_list:\n",
    "            candidate_list.append(candidate)\n",
    "            tabu_list.append(tabu)\n",
    "            n += 1\n",
    "\n",
    "    return candidate_list, tabu_list"
   ]
  },
  {
   "cell_type": "markdown",
   "metadata": {},
   "source": [
    "#### 타부 목록 평가 및 갱신\n",
    "\n",
    "<p style=\"text-indent: 1.5em\">생성된 이동 집합은 <code>n_neighbors</code>만큼 생성되며, 이를 먼저 타부 목록과 비교하고 열망수준보다 더 좋은 값을 가지면 이동 집합에 그대로 두며, 그렇지 않으면 삭제합니다. 그리고 이동 집합의 전체 적합도 값을 평가하고 가장 좋은 적합도 값을 가진 해를 현재해로 선택합니다. 그리고 타부 목록을 갱신합니다. 타부 목록을 갱신하는 방법은 타부 목록이 지정된 길이보다 작으면 그대로 저장하고, 타부 목록의 길이가 지정된 길이보다 크거나 같을 때, 리스트 첫 번째 원소를 제거하고 마지막 위치에 추가합니다. 이는 사람의 기억력처럼 오래된 기억을 사라지고 가장 최근에 경험했던 기억을 가져갑니다.</p>"
   ]
  },
  {
   "cell_type": "code",
   "execution_count": 3,
   "metadata": {},
   "outputs": [],
   "source": [
    "import numpy as np\n",
    "\n",
    "\n",
    "class TabuSearch:\n",
    "    \"\"\"Tabu Search\n",
    "    \"\"\"\n",
    "    def __init__(self, cities, n_neighbors, tabu_length, max_iter):\n",
    "        self.cities = cities\n",
    "        self.n_neighbors = n_neighbors\n",
    "        self.tabu_length = tabu_length\n",
    "        self.tabu_list = []\n",
    "        self.max_iter = max_iter\n",
    "        self.history = {'best': [], 'current': []}\n",
    "    \n",
    "    def _fitness(self, solution):\n",
    "        return np.sum([self.cities[i, j] for i, j in zip(solution, solution[1:] + [solution[0]])])\n",
    "    \n",
    "    def _two_opt(self, solution):\n",
    "        new_solution = solution.copy()\n",
    "        changed = True\n",
    "        while changed:\n",
    "            i = np.random.choice(range(1, len(solution)-2))\n",
    "            j = np.random.choice(range(i+1, len(solution)))\n",
    "            if j-i != 1:\n",
    "                new_solution[i:j] = reversed(solution[i:j])\n",
    "                changed = False\n",
    "            else:\n",
    "                continue\n",
    "                \n",
    "        return new_solution, (i, j)\n",
    "\n",
    "    def _get_neighbors(self, solution):\n",
    "        candidate_list = []\n",
    "        tabu_list = []\n",
    "\n",
    "        n = 0\n",
    "        while n < self.n_neighbors:\n",
    "            candidate, tabu = self._two_opt(solution)\n",
    "            if candidate not in candidate_list:\n",
    "                candidate_list.append(candidate)\n",
    "                tabu_list.append(tabu)\n",
    "                n += 1\n",
    "                \n",
    "        return candidate_list, tabu_list\n",
    "    \n",
    "    def _eval_aspiration(self, candidate_list, tabu_list):\n",
    "        # Remove candidate\n",
    "        for i, candidate in enumerate(candidate_list):\n",
    "            value = self._fitness(candidate)\n",
    "            if tabu_list[i] in self.tabu_list:\n",
    "                if value < self.aspiration_level:\n",
    "                    pass\n",
    "                else:\n",
    "                    del candidate_list[i]\n",
    "                    del tabu_list[i]\n",
    "        \n",
    "        # Evalute each candidate\n",
    "        current_value = np.inf\n",
    "        for candidate, tabu in zip(candidate_list, tabu_list):\n",
    "            value = self._fitness(candidate)\n",
    "            if value < current_value:\n",
    "                current_value = value\n",
    "                current_solution = candidate\n",
    "                current_tabu = tabu\n",
    "        \n",
    "        # Update tabu list\n",
    "        if len(self.tabu_list) < self.tabu_length:\n",
    "            self.tabu_list.append(current_tabu)\n",
    "        else:\n",
    "            self.tabu_list.pop(0)\n",
    "            self.tabu_list.append(current_tabu)\n",
    "        \n",
    "        return current_solution\n",
    "\n",
    "    def solve(self):\n",
    "        # Initial solution\n",
    "        initial_solution = list(np.random.permutation(range(1, len(self.cities))))\n",
    "        initial_solution.insert(0, 0)\n",
    "        initial_value = self._fitness(initial_solution)\n",
    "        \n",
    "        current_solution = initial_solution\n",
    "        current_value = initial_value\n",
    "        self.aspiration_level = initial_value\n",
    "        \n",
    "        # Initialize best value\n",
    "        best_value = np.inf\n",
    "        best_solution = None\n",
    "        while self.max_iter:\n",
    "            # Generate candidates\n",
    "            candidate_list, tabu_list = self._get_neighbors(current_solution)\n",
    "            \n",
    "            # Evaluating tabu and aspiration\n",
    "            current_solution = self._eval_aspiration(candidate_list, tabu_list)\n",
    "            current_value = self._fitness(current_solution)\n",
    "            \n",
    "            if current_value < best_value:\n",
    "                best_value = current_value\n",
    "                best_solution = current_solution\n",
    "                if best_value < self.aspiration_level:\n",
    "                    self.aspiration_level = best_value\n",
    "            \n",
    "            self.history['best'].append(best_value)\n",
    "            self.history['current'].append(current_value)\n",
    "\n",
    "            self.max_iter -= 1\n",
    "        \n",
    "        return best_value"
   ]
  },
  {
   "cell_type": "code",
   "execution_count": 4,
   "metadata": {},
   "outputs": [
    {
     "data": {
      "text/plain": [
       "327"
      ]
     },
     "execution_count": 4,
     "metadata": {},
     "output_type": "execute_result"
    }
   ],
   "source": [
    "tabu_search = TabuSearch(cities, 20, 10, 70)\n",
    "tabu_search.solve()"
   ]
  },
  {
   "cell_type": "code",
   "execution_count": 5,
   "metadata": {},
   "outputs": [
    {
     "data": {
      "text/plain": [
       "<Figure size 1000x800 with 1 Axes>"
      ]
     },
     "metadata": {},
     "output_type": "display_data"
    }
   ],
   "source": [
    "import matplotlib.pyplot as plt\n",
    "\n",
    "fig, ax = plt.subplots(figsize=(5,4), dpi=200)\n",
    "\n",
    "iteration = np.arange(len(tabu_search.history['best']))\n",
    "\n",
    "ax.plot(iteration, tabu_search.history['current'], lw=0.7, c='grey', label='Current values')\n",
    "ax.plot(iteration, tabu_search.history['best'], lw=1, c='b', label='Best values')\n",
    "\n",
    "ax.axhline(y=tabu_search.history['current'][0], c='r', lw=1, ls='-.', label='Initial values')\n",
    "ax.axhline(y=min(tabu_search.history['best']), c='g', lw=1, ls='--', label='Best values')\n",
    "\n",
    "ax.set_xlabel('Iteration')\n",
    "ax.set_ylabel('Fitness values')\n",
    "ax.grid(axis='both', linestyle='--')\n",
    "ax.legend(loc='upper right', frameon=True, shadow=False, \n",
    "          fancybox=False, ncol=2, framealpha=1, edgecolor='black')\n",
    "fig.tight_layout()\n",
    "plt.show()\n",
    "fig.savefig('ts.png', dpi=300)"
   ]
  },
  {
   "cell_type": "markdown",
   "metadata": {},
   "source": [
    "<div style=\"text-align: center; padding-top: 1em; padding-bottom: 1em;\"><img src=\"images/figures/sa-02.png\" width=\"50%\" /><br><b>그림 2 </b>타부 서치</div>\n",
    "\n",
    "<p style=\"text-indent: 1.5em\"><b>그림 2</b>와 같이 타부 서치는 현재해보다 더 좋지 않은 해로의 이동을 허락하기 때문에 현재해가 이전 해보다 더 나쁠 수도 있습니다. 이는 타부 서치가 지역 최적해를 벗어나 다른 지역으로 탐색을 할 수 있는 능력을 나타냅니다.</p>\n"
   ]
  },
  {
   "cell_type": "markdown",
   "metadata": {},
   "source": [
    "### 참고문헌\n",
    "\n",
    "1. Cover: https://pixabay.com/illustrations/brain-nervous-anatomy-medical-1921600/\n",
    "2. Hillier, F. S. & Lieberman, G. J. (2013). _Introduction to Operations Research_. McGraw-Hill Science, Engineering & Mathematics.\n",
    "3. Luke, S. (2013). _Essentials of Metaheuristics_.\n",
    "4. 김여근 (2017). _메타휴리스틱스_. 전남대학교출판부."
   ]
  },
  {
   "cell_type": "code",
   "execution_count": null,
   "metadata": {},
   "outputs": [],
   "source": []
  },
  {
   "cell_type": "code",
   "execution_count": null,
   "metadata": {},
   "outputs": [],
   "source": []
  }
 ],
 "metadata": {
  "kernelspec": {
   "display_name": "Python 3",
   "language": "python",
   "name": "python3"
  },
  "language_info": {
   "codemirror_mode": {
    "name": "ipython",
    "version": 3
   },
   "file_extension": ".py",
   "mimetype": "text/x-python",
   "name": "python",
   "nbconvert_exporter": "python",
   "pygments_lexer": "ipython3",
   "version": "3.7.3"
  }
 },
 "nbformat": 4,
 "nbformat_minor": 4
}
