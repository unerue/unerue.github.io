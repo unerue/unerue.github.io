{
 "cells": [
  {
   "cell_type": "markdown",
   "metadata": {},
   "source": [
    "# Tackling the $n$-Queens Puzzle"
   ]
  },
  {
   "cell_type": "code",
   "execution_count": 315,
   "metadata": {},
   "outputs": [],
   "source": [
    "class Board:\n",
    "    def __init__(self, genes, size):\n",
    "        board = [['.'] * size for _ in range(size)]\n",
    "        for index in range(0, len(genes), 2):\n",
    "            row = genes[index]\n",
    "            column = genes[index + 1]\n",
    "            print(row, column)\n",
    "            board[row][column] = 'Q'\n",
    "        self._board = board\n",
    "\n",
    "    def get(self, row, column):\n",
    "        return self._board[column][row]"
   ]
  },
  {
   "cell_type": "code",
   "execution_count": 316,
   "metadata": {},
   "outputs": [
    {
     "data": {
      "text/plain": [
       "[3, 2, 3, 1, 2, 2, 1, 2]"
      ]
     },
     "execution_count": 316,
     "metadata": {},
     "output_type": "execute_result"
    }
   ],
   "source": [
    "gene = [3, 2, 3, 1, 2, 2, 1, 2]\n",
    "gene"
   ]
  },
  {
   "cell_type": "code",
   "execution_count": 317,
   "metadata": {},
   "outputs": [],
   "source": [
    "d = [['.', '.', '.', '.'],\n",
    " ['.', '.', '.', 'Q'],\n",
    " ['.', 'Q', 'Q', 'Q'],\n",
    " ['.', '.', '.', '.']]"
   ]
  },
  {
   "cell_type": "code",
   "execution_count": 318,
   "metadata": {},
   "outputs": [
    {
     "data": {
      "text/plain": [
       "['.', '.', '.', '.']"
      ]
     },
     "execution_count": 318,
     "metadata": {},
     "output_type": "execute_result"
    }
   ],
   "source": [
    "d[0]"
   ]
  },
  {
   "cell_type": "code",
   "execution_count": 319,
   "metadata": {},
   "outputs": [
    {
     "data": {
      "text/plain": [
       "'Q'"
      ]
     },
     "execution_count": 319,
     "metadata": {},
     "output_type": "execute_result"
    }
   ],
   "source": [
    "d[2][3]"
   ]
  },
  {
   "cell_type": "code",
   "execution_count": 320,
   "metadata": {},
   "outputs": [
    {
     "name": "stdout",
     "output_type": "stream",
     "text": [
      "3 2\n",
      "3 1\n",
      "2 2\n",
      "1 2\n"
     ]
    },
    {
     "data": {
      "text/plain": [
       "[['.', '.', '.', '.'],\n",
       " ['.', '.', 'Q', '.'],\n",
       " ['.', '.', 'Q', '.'],\n",
       " ['.', 'Q', 'Q', '.']]"
      ]
     },
     "execution_count": 320,
     "metadata": {},
     "output_type": "execute_result"
    }
   ],
   "source": [
    "board = Board(gene, 4)\n",
    "board._board"
   ]
  },
  {
   "cell_type": "code",
   "execution_count": 280,
   "metadata": {},
   "outputs": [],
   "source": [
    "def display(candidate, startTime, size):\n",
    "    timeDiff = datetime.datetime.now() - startTime\n",
    "    board = Board(candidate.Genes, size)\n",
    "    board.print()\n",
    "    print('{}\\t- {}\\t{}'.format(\n",
    "        ' '.join(map(str, candidate.Genes)),\n",
    "        candidate.Fitness,\n",
    "        timeDiff))"
   ]
  },
  {
   "cell_type": "code",
   "execution_count": 264,
   "metadata": {},
   "outputs": [
    {
     "name": "stdout",
     "output_type": "stream",
     "text": [
      "0\n",
      "2\n"
     ]
    }
   ],
   "source": [
    "for index in range(0, len(gene), 2):\n",
    "    print(index)"
   ]
  },
  {
   "cell_type": "code",
   "execution_count": 231,
   "metadata": {},
   "outputs": [],
   "source": [
    "gene = [1, 2, 3, 4, 3, 3, 3, 1, 0, 4, 4, 2, 0, 0, 1, 0]"
   ]
  },
  {
   "cell_type": "code",
   "execution_count": 206,
   "metadata": {},
   "outputs": [
    {
     "data": {
      "text/plain": [
       "16"
      ]
     },
     "execution_count": 206,
     "metadata": {},
     "output_type": "execute_result"
    }
   ],
   "source": [
    "len(gene)"
   ]
  },
  {
   "cell_type": "code",
   "execution_count": 207,
   "metadata": {},
   "outputs": [
    {
     "name": "stdout",
     "output_type": "stream",
     "text": [
      "0\n",
      "2\n",
      "4\n",
      "6\n",
      "8\n",
      "10\n",
      "12\n",
      "14\n"
     ]
    }
   ],
   "source": [
    "board = Board(gene, 8)"
   ]
  },
  {
   "cell_type": "code",
   "execution_count": 208,
   "metadata": {},
   "outputs": [
    {
     "data": {
      "text/plain": [
       "'Q'"
      ]
     },
     "execution_count": 208,
     "metadata": {},
     "output_type": "execute_result"
    }
   ],
   "source": [
    "board.get(0,0)"
   ]
  },
  {
   "cell_type": "code",
   "execution_count": 200,
   "metadata": {},
   "outputs": [
    {
     "data": {
      "text/plain": [
       "[['Q', 'Q', '.', '.', '.', '.', '.', '.'],\n",
       " ['.', '.', '.', 'Q', '.', '.', '.', '.'],\n",
       " ['.', 'Q', '.', '.', 'Q', '.', '.', '.'],\n",
       " ['.', '.', '.', 'Q', '.', '.', '.', '.'],\n",
       " ['Q', '.', '.', 'Q', '.', '.', '.', '.'],\n",
       " ['.', '.', '.', '.', '.', '.', '.', '.'],\n",
       " ['.', '.', '.', '.', '.', '.', '.', '.'],\n",
       " ['.', '.', '.', '.', '.', '.', '.', '.']]"
      ]
     },
     "execution_count": 200,
     "metadata": {},
     "output_type": "execute_result"
    }
   ],
   "source": [
    "board._board"
   ]
  },
  {
   "cell_type": "code",
   "execution_count": 183,
   "metadata": {},
   "outputs": [
    {
     "data": {
      "text/plain": [
       "[['.', '.', '.', '.', '.', '.', '.', '.', '.', '.'],\n",
       " ['.', '.', '.', '.', '.', '.', '.', '.', '.', '.'],\n",
       " ['.', '.', '.', '.', '.', '.', '.', '.', '.', '.'],\n",
       " ['.', '.', '.', '.', '.', '.', '.', '.', '.', '.'],\n",
       " ['.', '.', '.', '.', '.', '.', '.', '.', '.', '.'],\n",
       " ['.', '.', '.', '.', '.', '.', '.', '.', '.', '.'],\n",
       " ['.', '.', '.', '.', '.', '.', '.', '.', '.', '.'],\n",
       " ['.', '.', '.', '.', '.', '.', '.', '.', '.', '.'],\n",
       " ['.', '.', '.', '.', '.', '.', '.', '.', '.', '.'],\n",
       " ['.', '.', '.', '.', '.', '.', '.', '.', '.', '.']]"
      ]
     },
     "execution_count": 183,
     "metadata": {},
     "output_type": "execute_result"
    }
   ],
   "source": [
    "board = [['.'] * 10 for _ in range(10)]\n",
    "board"
   ]
  },
  {
   "cell_type": "code",
   "execution_count": 20,
   "metadata": {},
   "outputs": [
    {
     "ename": "TypeError",
     "evalue": "list indices must be integers or slices, not list",
     "output_type": "error",
     "traceback": [
      "\u001b[1;31m---------------------------------------------------------------------------\u001b[0m",
      "\u001b[1;31mTypeError\u001b[0m                                 Traceback (most recent call last)",
      "\u001b[1;32m<ipython-input-20-08de9d74fc49>\u001b[0m in \u001b[0;36m<module>\u001b[1;34m\u001b[0m\n\u001b[1;32m----> 1\u001b[1;33m \u001b[0mboard\u001b[0m \u001b[1;33m=\u001b[0m \u001b[0mBoard\u001b[0m\u001b[1;33m(\u001b[0m\u001b[0mgene\u001b[0m\u001b[1;33m,\u001b[0m \u001b[1;36m25\u001b[0m\u001b[1;33m)\u001b[0m\u001b[1;33m\u001b[0m\u001b[1;33m\u001b[0m\u001b[0m\n\u001b[0m",
      "\u001b[1;32m<ipython-input-16-11bd6556cc7c>\u001b[0m in \u001b[0;36m__init__\u001b[1;34m(self, genes, size)\u001b[0m\n\u001b[0;32m      5\u001b[0m             \u001b[0mrow\u001b[0m \u001b[1;33m=\u001b[0m \u001b[0mgenes\u001b[0m\u001b[1;33m[\u001b[0m\u001b[0mindex\u001b[0m\u001b[1;33m]\u001b[0m\u001b[1;33m\u001b[0m\u001b[1;33m\u001b[0m\u001b[0m\n\u001b[0;32m      6\u001b[0m             \u001b[0mcolumn\u001b[0m \u001b[1;33m=\u001b[0m \u001b[0mgenes\u001b[0m\u001b[1;33m[\u001b[0m\u001b[0mindex\u001b[0m \u001b[1;33m+\u001b[0m \u001b[1;36m1\u001b[0m\u001b[1;33m]\u001b[0m\u001b[1;33m\u001b[0m\u001b[1;33m\u001b[0m\u001b[0m\n\u001b[1;32m----> 7\u001b[1;33m             \u001b[0mboard\u001b[0m\u001b[1;33m[\u001b[0m\u001b[0mcolumn\u001b[0m\u001b[1;33m]\u001b[0m\u001b[1;33m[\u001b[0m\u001b[0mrow\u001b[0m\u001b[1;33m]\u001b[0m \u001b[1;33m=\u001b[0m \u001b[1;34m'Q'\u001b[0m\u001b[1;33m\u001b[0m\u001b[1;33m\u001b[0m\u001b[0m\n\u001b[0m\u001b[0;32m      8\u001b[0m         \u001b[0mself\u001b[0m\u001b[1;33m.\u001b[0m\u001b[0m_board\u001b[0m \u001b[1;33m=\u001b[0m \u001b[0mboard\u001b[0m\u001b[1;33m\u001b[0m\u001b[1;33m\u001b[0m\u001b[0m\n\u001b[0;32m      9\u001b[0m \u001b[1;33m\u001b[0m\u001b[0m\n",
      "\u001b[1;31mTypeError\u001b[0m: list indices must be integers or slices, not list"
     ]
    }
   ],
   "source": [
    "board = Board(gene, 25)"
   ]
  },
  {
   "cell_type": "code",
   "execution_count": null,
   "metadata": {},
   "outputs": [],
   "source": [
    "import genetic\n",
    "\n",
    "\n",
    "def get_fitness(genes, size):\n",
    "    board = Board(genes, size)\n",
    "    rowsWithQueens = set()\n",
    "    colsWithQueens = set()\n",
    "    northEastDiagonalsWithQueens = set()\n",
    "    southEastDiagonalsWithQueens = set()\n",
    "    for row in range(size):\n",
    "        for col in range(size):\n",
    "            if board.get(row, col) == 'Q':\n",
    "                rowsWithQueens.add(row)\n",
    "                colsWithQueens.add(col)\n",
    "                northEastDiagonalsWithQueens.add(row + col)\n",
    "                southEastDiagonalsWithQueens.add(size - 1 - row + col)\n",
    "    total = size - len(rowsWithQueens) \\\n",
    "            + size - len(colsWithQueens) \\\n",
    "            + size - len(northEastDiagonalsWithQueens) \\\n",
    "            + size - len(southEastDiagonalsWithQueens)\n",
    "    return Fitness(total)\n",
    "\n",
    "\n",
    "def display(candidate, startTime, size):\n",
    "    timeDiff = datetime.datetime.now() - startTime\n",
    "    board = Board(candidate.Genes, size)\n",
    "    board.print()\n",
    "    print(\"{}\\t- {}\\t{}\".format(\n",
    "        ' '.join(map(str, candidate.Genes)),\n",
    "        candidate.Fitness,\n",
    "        timeDiff))\n",
    "\n",
    "\n",
    "class EightQueensTests(unittest.TestCase):\n",
    "    def test(self, size=8):\n",
    "        geneset = [i for i in range(size)]\n",
    "        startTime = datetime.datetime.now()\n",
    "\n",
    "        def fnDisplay(candidate):\n",
    "            display(candidate, startTime, size)\n",
    "\n",
    "        def fnGetFitness(genes):\n",
    "            return get_fitness(genes, size)\n",
    "\n",
    "        optimalFitness = Fitness(0)\n",
    "        best = genetic.get_best(fnGetFitness, 2 * size, optimalFitness,\n",
    "                                geneset, fnDisplay)\n",
    "        self.assertTrue(not optimalFitness > best.Fitness)\n",
    "\n",
    "    def test_benchmark(self):\n",
    "        genetic.Benchmark.run(lambda: self.test(20))\n",
    "\n",
    "\n",
    "class Board:\n",
    "    def __init__(self, genes, size):\n",
    "        board = [['.'] * size for _ in range(size)]\n",
    "        for index in range(0, len(genes), 2):\n",
    "            row = genes[index]\n",
    "            column = genes[index + 1]\n",
    "            board[column][row] = 'Q'\n",
    "        self._board = board\n",
    "\n",
    "    def get(self, row, column):\n",
    "        return self._board[column][row]\n",
    "\n",
    "    def print(self):\n",
    "        # 0,0 prints in bottom left corner\n",
    "        for i in reversed(range(len(self._board))):\n",
    "            print(' '.join(self._board[i]))\n",
    "\n",
    "\n",
    "class Fitness:\n",
    "    def __init__(self, total):\n",
    "        self.Total = total\n",
    "\n",
    "    def __gt__(self, other):\n",
    "        return self.Total < other.Total\n",
    "\n",
    "    def __str__(self):\n",
    "        return \"{}\".format(self.Total)\n",
    "\n",
    "\n",
    "if __name__ == '__main__':\n",
    "    unittest.main()\n"
   ]
  }
 ],
 "metadata": {
  "kernelspec": {
   "display_name": "Python 3",
   "language": "python",
   "name": "python3"
  },
  "language_info": {
   "codemirror_mode": {
    "name": "ipython",
    "version": 3
   },
   "file_extension": ".py",
   "mimetype": "text/x-python",
   "name": "python",
   "nbconvert_exporter": "python",
   "pygments_lexer": "ipython3",
   "version": "3.6.7"
  }
 },
 "nbformat": 4,
 "nbformat_minor": 2
}
