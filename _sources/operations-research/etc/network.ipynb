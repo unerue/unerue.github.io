{
 "cells": [
  {
   "source": [
    "# Network Optimization Model"
   ],
   "cell_type": "markdown",
   "metadata": {}
  },
  {
   "cell_type": "code",
   "execution_count": 12,
   "metadata": {},
   "outputs": [
    {
     "data": {
      "text/plain": [
       "1"
      ]
     },
     "execution_count": 12,
     "metadata": {},
     "output_type": "execute_result"
    }
   ],
   "source": [
    "from pulp import *\n",
    "\n",
    "prob = LpProblem('Critical Path Problem', LpMinimize)\n",
    "\n",
    "p1 = 10\n",
    "p2 = 2\n",
    "p3 = 3\n",
    "\n",
    "s1 = LpVariable('Starting time of job 1', 0, None)\n",
    "s2 = LpVariable('Starting time of job 2', 0, None)\n",
    "s3 = LpVariable('Starting time of job 3', 0, None)\n",
    "Cmax = LpVariable('Completion time of finish job', 0, None)\n",
    "\n",
    "prob += Cmax + (s1 + s2 + s3)\n",
    "\n",
    "prob += s3 >= s2 + p2 # job 2 precedes job 3\n",
    "prob += Cmax >= s1 + p1\n",
    "prob += Cmax >= s2 + p2\n",
    "prob += Cmax >= s3 + p3\n",
    "\n",
    "# solve it\n",
    "prob.solve()"
   ]
  },
  {
   "cell_type": "code",
   "execution_count": 15,
   "metadata": {},
   "outputs": [
    {
     "name": "stdout",
     "output_type": "stream",
     "text": [
      "Optimal\n",
      "Completion_time_of_finish_job = 10.0\n",
      "Starting_time_of_job_1 = 0.0\n",
      "Starting_time_of_job_2 = 0.0\n",
      "Starting_time_of_job_3 = 2.0\n"
     ]
    }
   ],
   "source": [
    "print(LpStatus[prob.status])\n",
    "\n",
    "for v in prob.variables():\n",
    "    print(v.name, '=', v.varValue)"
   ]
  },
  {
   "cell_type": "code",
   "execution_count": null,
   "metadata": {},
   "outputs": [],
   "source": []
  }
 ],
 "metadata": {
  "kernelspec": {
   "display_name": "Python 3",
   "language": "python",
   "name": "python3"
  },
  "language_info": {
   "codemirror_mode": {
    "name": "ipython",
    "version": 3
   },
   "file_extension": ".py",
   "mimetype": "text/x-python",
   "name": "python",
   "nbconvert_exporter": "python",
   "pygments_lexer": "ipython3",
   "version": "3.6.9"
  }
 },
 "nbformat": 4,
 "nbformat_minor": 4
}