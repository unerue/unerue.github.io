{
 "cells": [
  {
   "source": [
    "# Queueing Theory"
   ],
   "cell_type": "markdown",
   "metadata": {}
  },
  {
   "cell_type": "code",
   "execution_count": null,
   "metadata": {},
   "outputs": [],
   "source": [
    "from scipy.stats import randint, poisson, expon, uniform\n",
    "from scipy.integrate import quad\n",
    "import matplotlib.pylab as plt\n",
    "import numpy as np\n",
    "\n",
    "\n",
    "def memoize(f, cache={}):\n",
    "    def g(*args, **kwargs):\n",
    "        key = (f, tuple(args))\n",
    "        if key not in cache:\n",
    "            cache[key] = f(*args)\n",
    "        return cache[key]\n",
    "    return g\n",
    "\n",
    "\n",
    "class MM1:\n",
    "    def __init__(self, labda, mu , rv):\n",
    "        self.labda = labda\n",
    "        self.mu = mu\n",
    "        self.G = rv.sf\n",
    "        self.num = 100 # to be tuned\n",
    "        self.normalize()\n",
    "\n",
    "    @memoize\n",
    "    def P(self, n): \n",
    "        if n == 0:\n",
    "            return 1.\n",
    "        else:\n",
    "            return self.labda/self.mu*sum(self.G(i)*self.P(n-1-i) for i in range(n))\n",
    "\n",
    "    def normalize(self):\n",
    "        self.tot = sum( self.P(i) for i in range(self.num))\n",
    "\n",
    "    def p(self, n): # normalized probabilities\n",
    "        return self.P(n)/self.tot"
   ]
  },
  {
   "cell_type": "code",
   "execution_count": null,
   "metadata": {},
   "outputs": [],
   "source": [
    "rv = randint(1., 2.)"
   ]
  },
  {
   "cell_type": "code",
   "execution_count": null,
   "metadata": {},
   "outputs": [],
   "source": [
    "rho = 2./3\n",
    "labda = 1.\n",
    "mu = labda*rv.mean()/rho\n",
    "\n",
    "mm1 = MXM1(labda, mu, rv)\n",
    "\n",
    "for n in range(20):\n",
    "    print(n, mm1.p(n), (1-rho)*rho**n)"
   ]
  },
  {
   "cell_type": "code",
   "execution_count": null,
   "metadata": {},
   "outputs": [],
   "source": [
    "num = 50\n",
    "p1 = [mm1.p(n) for n in range(num)]"
   ]
  },
  {
   "cell_type": "code",
   "execution_count": null,
   "metadata": {},
   "outputs": [],
   "source": [
    "rv = randint(1, 4)\n",
    "mu = labda*rv.mean()/rho\n",
    "mm1 = MXM1(labda, mu, rv)\n",
    "p3 = [mm1.p(n) for n in range(num)]\n",
    "\n",
    "rv = randint(1, 10)\n",
    "mu = labda*rv.mean()/rho\n",
    "mm1 = MXM1(labda, mu, rv)\n",
    "p10 = [mm1.p(n) for n in range(num)]"
   ]
  },
  {
   "cell_type": "code",
   "execution_count": null,
   "metadata": {},
   "outputs": [],
   "source": [
    "plt.plot(p1, label=\"size = 1\")\n",
    "plt.plot(p3, label=\"size = 1,2, 3\")\n",
    "plt.plot(p10, label=\"size = 1,...,10\")\n",
    "plt.legend()\n",
    "plt.show()"
   ]
  },
  {
   "cell_type": "code",
   "execution_count": null,
   "metadata": {},
   "outputs": [],
   "source": []
  }
 ],
 "metadata": {
  "kernelspec": {
   "display_name": "Python 3",
   "language": "python",
   "name": "python3"
  },
  "language_info": {
   "codemirror_mode": {
    "name": "ipython",
    "version": 3
   },
   "file_extension": ".py",
   "mimetype": "text/x-python",
   "name": "python",
   "nbconvert_exporter": "python",
   "pygments_lexer": "ipython3",
   "version": "3.6.9"
  }
 },
 "nbformat": 4,
 "nbformat_minor": 4
}